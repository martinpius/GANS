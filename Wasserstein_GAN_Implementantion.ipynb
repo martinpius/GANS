{
  "nbformat": 4,
  "nbformat_minor": 0,
  "metadata": {
    "colab": {
      "name": "Wasserstein GAN Implementantion.ipynb",
      "provenance": [],
      "authorship_tag": "ABX9TyO9DHamkVKv6dKBmXrhuT1R",
      "include_colab_link": true
    },
    "kernelspec": {
      "name": "python3",
      "display_name": "Python 3"
    },
    "language_info": {
      "name": "python"
    },
    "accelerator": "GPU",
    "widgets": {
      "application/vnd.jupyter.widget-state+json": {
        "58ed12bde9e24282867ad9b8842fce2c": {
          "model_module": "@jupyter-widgets/controls",
          "model_name": "HBoxModel",
          "state": {
            "_view_name": "HBoxView",
            "_dom_classes": [],
            "_model_name": "HBoxModel",
            "_view_module": "@jupyter-widgets/controls",
            "_model_module_version": "1.5.0",
            "_view_count": null,
            "_view_module_version": "1.5.0",
            "box_style": "",
            "layout": "IPY_MODEL_269932c5744d48f180e5c6d6d6736c28",
            "_model_module": "@jupyter-widgets/controls",
            "children": [
              "IPY_MODEL_d042b471326b460e83afb6b980a98bd5",
              "IPY_MODEL_7f61d8b50ea643c8915a17edf859f0fd"
            ]
          }
        },
        "269932c5744d48f180e5c6d6d6736c28": {
          "model_module": "@jupyter-widgets/base",
          "model_name": "LayoutModel",
          "state": {
            "_view_name": "LayoutView",
            "grid_template_rows": null,
            "right": null,
            "justify_content": null,
            "_view_module": "@jupyter-widgets/base",
            "overflow": null,
            "_model_module_version": "1.2.0",
            "_view_count": null,
            "flex_flow": null,
            "width": null,
            "min_width": null,
            "border": null,
            "align_items": null,
            "bottom": null,
            "_model_module": "@jupyter-widgets/base",
            "top": null,
            "grid_column": null,
            "overflow_y": null,
            "overflow_x": null,
            "grid_auto_flow": null,
            "grid_area": null,
            "grid_template_columns": null,
            "flex": null,
            "_model_name": "LayoutModel",
            "justify_items": null,
            "grid_row": null,
            "max_height": null,
            "align_content": null,
            "visibility": null,
            "align_self": null,
            "height": null,
            "min_height": null,
            "padding": null,
            "grid_auto_rows": null,
            "grid_gap": null,
            "max_width": null,
            "order": null,
            "_view_module_version": "1.2.0",
            "grid_template_areas": null,
            "object_position": null,
            "object_fit": null,
            "grid_auto_columns": null,
            "margin": null,
            "display": null,
            "left": null
          }
        },
        "d042b471326b460e83afb6b980a98bd5": {
          "model_module": "@jupyter-widgets/controls",
          "model_name": "FloatProgressModel",
          "state": {
            "_view_name": "ProgressView",
            "style": "IPY_MODEL_bf29fe81dacd420898b8429b654cba07",
            "_dom_classes": [],
            "description": "",
            "_model_name": "FloatProgressModel",
            "bar_style": "success",
            "max": 9912422,
            "_view_module": "@jupyter-widgets/controls",
            "_model_module_version": "1.5.0",
            "value": 9912422,
            "_view_count": null,
            "_view_module_version": "1.5.0",
            "orientation": "horizontal",
            "min": 0,
            "description_tooltip": null,
            "_model_module": "@jupyter-widgets/controls",
            "layout": "IPY_MODEL_9585a0e95ab34dc384b8729c7c7cf3c2"
          }
        },
        "7f61d8b50ea643c8915a17edf859f0fd": {
          "model_module": "@jupyter-widgets/controls",
          "model_name": "HTMLModel",
          "state": {
            "_view_name": "HTMLView",
            "style": "IPY_MODEL_f82c2c799f6749cd9c96cd6f22ac4452",
            "_dom_classes": [],
            "description": "",
            "_model_name": "HTMLModel",
            "placeholder": "​",
            "_view_module": "@jupyter-widgets/controls",
            "_model_module_version": "1.5.0",
            "value": " 9913344/? [00:05&lt;00:00, 1801464.72it/s]",
            "_view_count": null,
            "_view_module_version": "1.5.0",
            "description_tooltip": null,
            "_model_module": "@jupyter-widgets/controls",
            "layout": "IPY_MODEL_9cc26bb73e354e17ab085e663a776f73"
          }
        },
        "bf29fe81dacd420898b8429b654cba07": {
          "model_module": "@jupyter-widgets/controls",
          "model_name": "ProgressStyleModel",
          "state": {
            "_view_name": "StyleView",
            "_model_name": "ProgressStyleModel",
            "description_width": "initial",
            "_view_module": "@jupyter-widgets/base",
            "_model_module_version": "1.5.0",
            "_view_count": null,
            "_view_module_version": "1.2.0",
            "bar_color": null,
            "_model_module": "@jupyter-widgets/controls"
          }
        },
        "9585a0e95ab34dc384b8729c7c7cf3c2": {
          "model_module": "@jupyter-widgets/base",
          "model_name": "LayoutModel",
          "state": {
            "_view_name": "LayoutView",
            "grid_template_rows": null,
            "right": null,
            "justify_content": null,
            "_view_module": "@jupyter-widgets/base",
            "overflow": null,
            "_model_module_version": "1.2.0",
            "_view_count": null,
            "flex_flow": null,
            "width": null,
            "min_width": null,
            "border": null,
            "align_items": null,
            "bottom": null,
            "_model_module": "@jupyter-widgets/base",
            "top": null,
            "grid_column": null,
            "overflow_y": null,
            "overflow_x": null,
            "grid_auto_flow": null,
            "grid_area": null,
            "grid_template_columns": null,
            "flex": null,
            "_model_name": "LayoutModel",
            "justify_items": null,
            "grid_row": null,
            "max_height": null,
            "align_content": null,
            "visibility": null,
            "align_self": null,
            "height": null,
            "min_height": null,
            "padding": null,
            "grid_auto_rows": null,
            "grid_gap": null,
            "max_width": null,
            "order": null,
            "_view_module_version": "1.2.0",
            "grid_template_areas": null,
            "object_position": null,
            "object_fit": null,
            "grid_auto_columns": null,
            "margin": null,
            "display": null,
            "left": null
          }
        },
        "f82c2c799f6749cd9c96cd6f22ac4452": {
          "model_module": "@jupyter-widgets/controls",
          "model_name": "DescriptionStyleModel",
          "state": {
            "_view_name": "StyleView",
            "_model_name": "DescriptionStyleModel",
            "description_width": "",
            "_view_module": "@jupyter-widgets/base",
            "_model_module_version": "1.5.0",
            "_view_count": null,
            "_view_module_version": "1.2.0",
            "_model_module": "@jupyter-widgets/controls"
          }
        },
        "9cc26bb73e354e17ab085e663a776f73": {
          "model_module": "@jupyter-widgets/base",
          "model_name": "LayoutModel",
          "state": {
            "_view_name": "LayoutView",
            "grid_template_rows": null,
            "right": null,
            "justify_content": null,
            "_view_module": "@jupyter-widgets/base",
            "overflow": null,
            "_model_module_version": "1.2.0",
            "_view_count": null,
            "flex_flow": null,
            "width": null,
            "min_width": null,
            "border": null,
            "align_items": null,
            "bottom": null,
            "_model_module": "@jupyter-widgets/base",
            "top": null,
            "grid_column": null,
            "overflow_y": null,
            "overflow_x": null,
            "grid_auto_flow": null,
            "grid_area": null,
            "grid_template_columns": null,
            "flex": null,
            "_model_name": "LayoutModel",
            "justify_items": null,
            "grid_row": null,
            "max_height": null,
            "align_content": null,
            "visibility": null,
            "align_self": null,
            "height": null,
            "min_height": null,
            "padding": null,
            "grid_auto_rows": null,
            "grid_gap": null,
            "max_width": null,
            "order": null,
            "_view_module_version": "1.2.0",
            "grid_template_areas": null,
            "object_position": null,
            "object_fit": null,
            "grid_auto_columns": null,
            "margin": null,
            "display": null,
            "left": null
          }
        },
        "5657cba3f19246c3b7d7d49c91427cc2": {
          "model_module": "@jupyter-widgets/controls",
          "model_name": "HBoxModel",
          "state": {
            "_view_name": "HBoxView",
            "_dom_classes": [],
            "_model_name": "HBoxModel",
            "_view_module": "@jupyter-widgets/controls",
            "_model_module_version": "1.5.0",
            "_view_count": null,
            "_view_module_version": "1.5.0",
            "box_style": "",
            "layout": "IPY_MODEL_c0010a1b431642d18a98cf4bc18beb41",
            "_model_module": "@jupyter-widgets/controls",
            "children": [
              "IPY_MODEL_0400104592254d4cb12619a54ad71f7d",
              "IPY_MODEL_3be9d02559f74e5e8ab89db5979e5838"
            ]
          }
        },
        "c0010a1b431642d18a98cf4bc18beb41": {
          "model_module": "@jupyter-widgets/base",
          "model_name": "LayoutModel",
          "state": {
            "_view_name": "LayoutView",
            "grid_template_rows": null,
            "right": null,
            "justify_content": null,
            "_view_module": "@jupyter-widgets/base",
            "overflow": null,
            "_model_module_version": "1.2.0",
            "_view_count": null,
            "flex_flow": null,
            "width": null,
            "min_width": null,
            "border": null,
            "align_items": null,
            "bottom": null,
            "_model_module": "@jupyter-widgets/base",
            "top": null,
            "grid_column": null,
            "overflow_y": null,
            "overflow_x": null,
            "grid_auto_flow": null,
            "grid_area": null,
            "grid_template_columns": null,
            "flex": null,
            "_model_name": "LayoutModel",
            "justify_items": null,
            "grid_row": null,
            "max_height": null,
            "align_content": null,
            "visibility": null,
            "align_self": null,
            "height": null,
            "min_height": null,
            "padding": null,
            "grid_auto_rows": null,
            "grid_gap": null,
            "max_width": null,
            "order": null,
            "_view_module_version": "1.2.0",
            "grid_template_areas": null,
            "object_position": null,
            "object_fit": null,
            "grid_auto_columns": null,
            "margin": null,
            "display": null,
            "left": null
          }
        },
        "0400104592254d4cb12619a54ad71f7d": {
          "model_module": "@jupyter-widgets/controls",
          "model_name": "FloatProgressModel",
          "state": {
            "_view_name": "ProgressView",
            "style": "IPY_MODEL_5eff21e6f1a44d5b8b32589e60c19e9b",
            "_dom_classes": [],
            "description": "",
            "_model_name": "FloatProgressModel",
            "bar_style": "success",
            "max": 28881,
            "_view_module": "@jupyter-widgets/controls",
            "_model_module_version": "1.5.0",
            "value": 28881,
            "_view_count": null,
            "_view_module_version": "1.5.0",
            "orientation": "horizontal",
            "min": 0,
            "description_tooltip": null,
            "_model_module": "@jupyter-widgets/controls",
            "layout": "IPY_MODEL_1b3e7832f03f4f86a173cafb911bb07b"
          }
        },
        "3be9d02559f74e5e8ab89db5979e5838": {
          "model_module": "@jupyter-widgets/controls",
          "model_name": "HTMLModel",
          "state": {
            "_view_name": "HTMLView",
            "style": "IPY_MODEL_eaf46babd4fe49109d1915168e2de272",
            "_dom_classes": [],
            "description": "",
            "_model_name": "HTMLModel",
            "placeholder": "​",
            "_view_module": "@jupyter-widgets/controls",
            "_model_module_version": "1.5.0",
            "value": " 29696/? [00:03&lt;00:00, 9095.95it/s]",
            "_view_count": null,
            "_view_module_version": "1.5.0",
            "description_tooltip": null,
            "_model_module": "@jupyter-widgets/controls",
            "layout": "IPY_MODEL_e9f63239098e4458bcb1a19700590b29"
          }
        },
        "5eff21e6f1a44d5b8b32589e60c19e9b": {
          "model_module": "@jupyter-widgets/controls",
          "model_name": "ProgressStyleModel",
          "state": {
            "_view_name": "StyleView",
            "_model_name": "ProgressStyleModel",
            "description_width": "initial",
            "_view_module": "@jupyter-widgets/base",
            "_model_module_version": "1.5.0",
            "_view_count": null,
            "_view_module_version": "1.2.0",
            "bar_color": null,
            "_model_module": "@jupyter-widgets/controls"
          }
        },
        "1b3e7832f03f4f86a173cafb911bb07b": {
          "model_module": "@jupyter-widgets/base",
          "model_name": "LayoutModel",
          "state": {
            "_view_name": "LayoutView",
            "grid_template_rows": null,
            "right": null,
            "justify_content": null,
            "_view_module": "@jupyter-widgets/base",
            "overflow": null,
            "_model_module_version": "1.2.0",
            "_view_count": null,
            "flex_flow": null,
            "width": null,
            "min_width": null,
            "border": null,
            "align_items": null,
            "bottom": null,
            "_model_module": "@jupyter-widgets/base",
            "top": null,
            "grid_column": null,
            "overflow_y": null,
            "overflow_x": null,
            "grid_auto_flow": null,
            "grid_area": null,
            "grid_template_columns": null,
            "flex": null,
            "_model_name": "LayoutModel",
            "justify_items": null,
            "grid_row": null,
            "max_height": null,
            "align_content": null,
            "visibility": null,
            "align_self": null,
            "height": null,
            "min_height": null,
            "padding": null,
            "grid_auto_rows": null,
            "grid_gap": null,
            "max_width": null,
            "order": null,
            "_view_module_version": "1.2.0",
            "grid_template_areas": null,
            "object_position": null,
            "object_fit": null,
            "grid_auto_columns": null,
            "margin": null,
            "display": null,
            "left": null
          }
        },
        "eaf46babd4fe49109d1915168e2de272": {
          "model_module": "@jupyter-widgets/controls",
          "model_name": "DescriptionStyleModel",
          "state": {
            "_view_name": "StyleView",
            "_model_name": "DescriptionStyleModel",
            "description_width": "",
            "_view_module": "@jupyter-widgets/base",
            "_model_module_version": "1.5.0",
            "_view_count": null,
            "_view_module_version": "1.2.0",
            "_model_module": "@jupyter-widgets/controls"
          }
        },
        "e9f63239098e4458bcb1a19700590b29": {
          "model_module": "@jupyter-widgets/base",
          "model_name": "LayoutModel",
          "state": {
            "_view_name": "LayoutView",
            "grid_template_rows": null,
            "right": null,
            "justify_content": null,
            "_view_module": "@jupyter-widgets/base",
            "overflow": null,
            "_model_module_version": "1.2.0",
            "_view_count": null,
            "flex_flow": null,
            "width": null,
            "min_width": null,
            "border": null,
            "align_items": null,
            "bottom": null,
            "_model_module": "@jupyter-widgets/base",
            "top": null,
            "grid_column": null,
            "overflow_y": null,
            "overflow_x": null,
            "grid_auto_flow": null,
            "grid_area": null,
            "grid_template_columns": null,
            "flex": null,
            "_model_name": "LayoutModel",
            "justify_items": null,
            "grid_row": null,
            "max_height": null,
            "align_content": null,
            "visibility": null,
            "align_self": null,
            "height": null,
            "min_height": null,
            "padding": null,
            "grid_auto_rows": null,
            "grid_gap": null,
            "max_width": null,
            "order": null,
            "_view_module_version": "1.2.0",
            "grid_template_areas": null,
            "object_position": null,
            "object_fit": null,
            "grid_auto_columns": null,
            "margin": null,
            "display": null,
            "left": null
          }
        },
        "65357e98eba0453699328cad02056319": {
          "model_module": "@jupyter-widgets/controls",
          "model_name": "HBoxModel",
          "state": {
            "_view_name": "HBoxView",
            "_dom_classes": [],
            "_model_name": "HBoxModel",
            "_view_module": "@jupyter-widgets/controls",
            "_model_module_version": "1.5.0",
            "_view_count": null,
            "_view_module_version": "1.5.0",
            "box_style": "",
            "layout": "IPY_MODEL_ff795bc2c70544aea591713965f4924f",
            "_model_module": "@jupyter-widgets/controls",
            "children": [
              "IPY_MODEL_cada8f7f06ea45e2b7c72e22f531c41e",
              "IPY_MODEL_48c1fbf946d142faa51a412c8bb2a8b2"
            ]
          }
        },
        "ff795bc2c70544aea591713965f4924f": {
          "model_module": "@jupyter-widgets/base",
          "model_name": "LayoutModel",
          "state": {
            "_view_name": "LayoutView",
            "grid_template_rows": null,
            "right": null,
            "justify_content": null,
            "_view_module": "@jupyter-widgets/base",
            "overflow": null,
            "_model_module_version": "1.2.0",
            "_view_count": null,
            "flex_flow": null,
            "width": null,
            "min_width": null,
            "border": null,
            "align_items": null,
            "bottom": null,
            "_model_module": "@jupyter-widgets/base",
            "top": null,
            "grid_column": null,
            "overflow_y": null,
            "overflow_x": null,
            "grid_auto_flow": null,
            "grid_area": null,
            "grid_template_columns": null,
            "flex": null,
            "_model_name": "LayoutModel",
            "justify_items": null,
            "grid_row": null,
            "max_height": null,
            "align_content": null,
            "visibility": null,
            "align_self": null,
            "height": null,
            "min_height": null,
            "padding": null,
            "grid_auto_rows": null,
            "grid_gap": null,
            "max_width": null,
            "order": null,
            "_view_module_version": "1.2.0",
            "grid_template_areas": null,
            "object_position": null,
            "object_fit": null,
            "grid_auto_columns": null,
            "margin": null,
            "display": null,
            "left": null
          }
        },
        "cada8f7f06ea45e2b7c72e22f531c41e": {
          "model_module": "@jupyter-widgets/controls",
          "model_name": "FloatProgressModel",
          "state": {
            "_view_name": "ProgressView",
            "style": "IPY_MODEL_92683d578aa342b7a472ebe3d8803ace",
            "_dom_classes": [],
            "description": "",
            "_model_name": "FloatProgressModel",
            "bar_style": "success",
            "max": 1648877,
            "_view_module": "@jupyter-widgets/controls",
            "_model_module_version": "1.5.0",
            "value": 1648877,
            "_view_count": null,
            "_view_module_version": "1.5.0",
            "orientation": "horizontal",
            "min": 0,
            "description_tooltip": null,
            "_model_module": "@jupyter-widgets/controls",
            "layout": "IPY_MODEL_f6d3b7b74f374bd6883df0110bc39c94"
          }
        },
        "48c1fbf946d142faa51a412c8bb2a8b2": {
          "model_module": "@jupyter-widgets/controls",
          "model_name": "HTMLModel",
          "state": {
            "_view_name": "HTMLView",
            "style": "IPY_MODEL_8a2891dab823477da1d0f5bf06ab6279",
            "_dom_classes": [],
            "description": "",
            "_model_name": "HTMLModel",
            "placeholder": "​",
            "_view_module": "@jupyter-widgets/controls",
            "_model_module_version": "1.5.0",
            "value": " 1649664/? [00:01&lt;00:00, 869230.85it/s]",
            "_view_count": null,
            "_view_module_version": "1.5.0",
            "description_tooltip": null,
            "_model_module": "@jupyter-widgets/controls",
            "layout": "IPY_MODEL_0942c20066dc422bbb9dfa88dd8e9f1b"
          }
        },
        "92683d578aa342b7a472ebe3d8803ace": {
          "model_module": "@jupyter-widgets/controls",
          "model_name": "ProgressStyleModel",
          "state": {
            "_view_name": "StyleView",
            "_model_name": "ProgressStyleModel",
            "description_width": "initial",
            "_view_module": "@jupyter-widgets/base",
            "_model_module_version": "1.5.0",
            "_view_count": null,
            "_view_module_version": "1.2.0",
            "bar_color": null,
            "_model_module": "@jupyter-widgets/controls"
          }
        },
        "f6d3b7b74f374bd6883df0110bc39c94": {
          "model_module": "@jupyter-widgets/base",
          "model_name": "LayoutModel",
          "state": {
            "_view_name": "LayoutView",
            "grid_template_rows": null,
            "right": null,
            "justify_content": null,
            "_view_module": "@jupyter-widgets/base",
            "overflow": null,
            "_model_module_version": "1.2.0",
            "_view_count": null,
            "flex_flow": null,
            "width": null,
            "min_width": null,
            "border": null,
            "align_items": null,
            "bottom": null,
            "_model_module": "@jupyter-widgets/base",
            "top": null,
            "grid_column": null,
            "overflow_y": null,
            "overflow_x": null,
            "grid_auto_flow": null,
            "grid_area": null,
            "grid_template_columns": null,
            "flex": null,
            "_model_name": "LayoutModel",
            "justify_items": null,
            "grid_row": null,
            "max_height": null,
            "align_content": null,
            "visibility": null,
            "align_self": null,
            "height": null,
            "min_height": null,
            "padding": null,
            "grid_auto_rows": null,
            "grid_gap": null,
            "max_width": null,
            "order": null,
            "_view_module_version": "1.2.0",
            "grid_template_areas": null,
            "object_position": null,
            "object_fit": null,
            "grid_auto_columns": null,
            "margin": null,
            "display": null,
            "left": null
          }
        },
        "8a2891dab823477da1d0f5bf06ab6279": {
          "model_module": "@jupyter-widgets/controls",
          "model_name": "DescriptionStyleModel",
          "state": {
            "_view_name": "StyleView",
            "_model_name": "DescriptionStyleModel",
            "description_width": "",
            "_view_module": "@jupyter-widgets/base",
            "_model_module_version": "1.5.0",
            "_view_count": null,
            "_view_module_version": "1.2.0",
            "_model_module": "@jupyter-widgets/controls"
          }
        },
        "0942c20066dc422bbb9dfa88dd8e9f1b": {
          "model_module": "@jupyter-widgets/base",
          "model_name": "LayoutModel",
          "state": {
            "_view_name": "LayoutView",
            "grid_template_rows": null,
            "right": null,
            "justify_content": null,
            "_view_module": "@jupyter-widgets/base",
            "overflow": null,
            "_model_module_version": "1.2.0",
            "_view_count": null,
            "flex_flow": null,
            "width": null,
            "min_width": null,
            "border": null,
            "align_items": null,
            "bottom": null,
            "_model_module": "@jupyter-widgets/base",
            "top": null,
            "grid_column": null,
            "overflow_y": null,
            "overflow_x": null,
            "grid_auto_flow": null,
            "grid_area": null,
            "grid_template_columns": null,
            "flex": null,
            "_model_name": "LayoutModel",
            "justify_items": null,
            "grid_row": null,
            "max_height": null,
            "align_content": null,
            "visibility": null,
            "align_self": null,
            "height": null,
            "min_height": null,
            "padding": null,
            "grid_auto_rows": null,
            "grid_gap": null,
            "max_width": null,
            "order": null,
            "_view_module_version": "1.2.0",
            "grid_template_areas": null,
            "object_position": null,
            "object_fit": null,
            "grid_auto_columns": null,
            "margin": null,
            "display": null,
            "left": null
          }
        },
        "7a897da4cfaf4f06a7c66be2d6529d06": {
          "model_module": "@jupyter-widgets/controls",
          "model_name": "HBoxModel",
          "state": {
            "_view_name": "HBoxView",
            "_dom_classes": [],
            "_model_name": "HBoxModel",
            "_view_module": "@jupyter-widgets/controls",
            "_model_module_version": "1.5.0",
            "_view_count": null,
            "_view_module_version": "1.5.0",
            "box_style": "",
            "layout": "IPY_MODEL_b89c55900d7f4933b035e6fb8bba7b43",
            "_model_module": "@jupyter-widgets/controls",
            "children": [
              "IPY_MODEL_44fa8823e07d4e3b9eeb5151c7ef6485",
              "IPY_MODEL_a13f903d8d3f4069a2ed1f1cfffe0161"
            ]
          }
        },
        "b89c55900d7f4933b035e6fb8bba7b43": {
          "model_module": "@jupyter-widgets/base",
          "model_name": "LayoutModel",
          "state": {
            "_view_name": "LayoutView",
            "grid_template_rows": null,
            "right": null,
            "justify_content": null,
            "_view_module": "@jupyter-widgets/base",
            "overflow": null,
            "_model_module_version": "1.2.0",
            "_view_count": null,
            "flex_flow": null,
            "width": null,
            "min_width": null,
            "border": null,
            "align_items": null,
            "bottom": null,
            "_model_module": "@jupyter-widgets/base",
            "top": null,
            "grid_column": null,
            "overflow_y": null,
            "overflow_x": null,
            "grid_auto_flow": null,
            "grid_area": null,
            "grid_template_columns": null,
            "flex": null,
            "_model_name": "LayoutModel",
            "justify_items": null,
            "grid_row": null,
            "max_height": null,
            "align_content": null,
            "visibility": null,
            "align_self": null,
            "height": null,
            "min_height": null,
            "padding": null,
            "grid_auto_rows": null,
            "grid_gap": null,
            "max_width": null,
            "order": null,
            "_view_module_version": "1.2.0",
            "grid_template_areas": null,
            "object_position": null,
            "object_fit": null,
            "grid_auto_columns": null,
            "margin": null,
            "display": null,
            "left": null
          }
        },
        "44fa8823e07d4e3b9eeb5151c7ef6485": {
          "model_module": "@jupyter-widgets/controls",
          "model_name": "FloatProgressModel",
          "state": {
            "_view_name": "ProgressView",
            "style": "IPY_MODEL_25f107c837bd4604a79f5ca3f2b721e4",
            "_dom_classes": [],
            "description": "",
            "_model_name": "FloatProgressModel",
            "bar_style": "success",
            "max": 4542,
            "_view_module": "@jupyter-widgets/controls",
            "_model_module_version": "1.5.0",
            "value": 4542,
            "_view_count": null,
            "_view_module_version": "1.5.0",
            "orientation": "horizontal",
            "min": 0,
            "description_tooltip": null,
            "_model_module": "@jupyter-widgets/controls",
            "layout": "IPY_MODEL_44e4f67f0bdd4976a2a25d5ffe5152db"
          }
        },
        "a13f903d8d3f4069a2ed1f1cfffe0161": {
          "model_module": "@jupyter-widgets/controls",
          "model_name": "HTMLModel",
          "state": {
            "_view_name": "HTMLView",
            "style": "IPY_MODEL_91cae88f0fcb4f989c6eba0d8111c634",
            "_dom_classes": [],
            "description": "",
            "_model_name": "HTMLModel",
            "placeholder": "​",
            "_view_module": "@jupyter-widgets/controls",
            "_model_module_version": "1.5.0",
            "value": " 5120/? [00:00&lt;00:00, 19667.64it/s]",
            "_view_count": null,
            "_view_module_version": "1.5.0",
            "description_tooltip": null,
            "_model_module": "@jupyter-widgets/controls",
            "layout": "IPY_MODEL_7c2f5da5923241c6a7930f2d40268a69"
          }
        },
        "25f107c837bd4604a79f5ca3f2b721e4": {
          "model_module": "@jupyter-widgets/controls",
          "model_name": "ProgressStyleModel",
          "state": {
            "_view_name": "StyleView",
            "_model_name": "ProgressStyleModel",
            "description_width": "initial",
            "_view_module": "@jupyter-widgets/base",
            "_model_module_version": "1.5.0",
            "_view_count": null,
            "_view_module_version": "1.2.0",
            "bar_color": null,
            "_model_module": "@jupyter-widgets/controls"
          }
        },
        "44e4f67f0bdd4976a2a25d5ffe5152db": {
          "model_module": "@jupyter-widgets/base",
          "model_name": "LayoutModel",
          "state": {
            "_view_name": "LayoutView",
            "grid_template_rows": null,
            "right": null,
            "justify_content": null,
            "_view_module": "@jupyter-widgets/base",
            "overflow": null,
            "_model_module_version": "1.2.0",
            "_view_count": null,
            "flex_flow": null,
            "width": null,
            "min_width": null,
            "border": null,
            "align_items": null,
            "bottom": null,
            "_model_module": "@jupyter-widgets/base",
            "top": null,
            "grid_column": null,
            "overflow_y": null,
            "overflow_x": null,
            "grid_auto_flow": null,
            "grid_area": null,
            "grid_template_columns": null,
            "flex": null,
            "_model_name": "LayoutModel",
            "justify_items": null,
            "grid_row": null,
            "max_height": null,
            "align_content": null,
            "visibility": null,
            "align_self": null,
            "height": null,
            "min_height": null,
            "padding": null,
            "grid_auto_rows": null,
            "grid_gap": null,
            "max_width": null,
            "order": null,
            "_view_module_version": "1.2.0",
            "grid_template_areas": null,
            "object_position": null,
            "object_fit": null,
            "grid_auto_columns": null,
            "margin": null,
            "display": null,
            "left": null
          }
        },
        "91cae88f0fcb4f989c6eba0d8111c634": {
          "model_module": "@jupyter-widgets/controls",
          "model_name": "DescriptionStyleModel",
          "state": {
            "_view_name": "StyleView",
            "_model_name": "DescriptionStyleModel",
            "description_width": "",
            "_view_module": "@jupyter-widgets/base",
            "_model_module_version": "1.5.0",
            "_view_count": null,
            "_view_module_version": "1.2.0",
            "_model_module": "@jupyter-widgets/controls"
          }
        },
        "7c2f5da5923241c6a7930f2d40268a69": {
          "model_module": "@jupyter-widgets/base",
          "model_name": "LayoutModel",
          "state": {
            "_view_name": "LayoutView",
            "grid_template_rows": null,
            "right": null,
            "justify_content": null,
            "_view_module": "@jupyter-widgets/base",
            "overflow": null,
            "_model_module_version": "1.2.0",
            "_view_count": null,
            "flex_flow": null,
            "width": null,
            "min_width": null,
            "border": null,
            "align_items": null,
            "bottom": null,
            "_model_module": "@jupyter-widgets/base",
            "top": null,
            "grid_column": null,
            "overflow_y": null,
            "overflow_x": null,
            "grid_auto_flow": null,
            "grid_area": null,
            "grid_template_columns": null,
            "flex": null,
            "_model_name": "LayoutModel",
            "justify_items": null,
            "grid_row": null,
            "max_height": null,
            "align_content": null,
            "visibility": null,
            "align_self": null,
            "height": null,
            "min_height": null,
            "padding": null,
            "grid_auto_rows": null,
            "grid_gap": null,
            "max_width": null,
            "order": null,
            "_view_module_version": "1.2.0",
            "grid_template_areas": null,
            "object_position": null,
            "object_fit": null,
            "grid_auto_columns": null,
            "margin": null,
            "display": null,
            "left": null
          }
        }
      }
    }
  },
  "cells": [
    {
      "cell_type": "markdown",
      "metadata": {
        "id": "view-in-github",
        "colab_type": "text"
      },
      "source": [
        "<a href=\"https://colab.research.google.com/github/martinpius/GANS/blob/main/Wasserstein_GAN_Implementantion.ipynb\" target=\"_parent\"><img src=\"https://colab.research.google.com/assets/colab-badge.svg\" alt=\"Open In Colab\"/></a>"
      ]
    },
    {
      "cell_type": "code",
      "metadata": {
        "colab": {
          "base_uri": "https://localhost:8080/"
        },
        "id": "wtCIVGtGsttj",
        "outputId": "e6a1c340-e3d2-4e90-fa4c-e34cf9d84be2"
      },
      "source": [
        "from google.colab import drive\n",
        "drive.mount(\"/content/drive\", force_remount = True)\n",
        "try:\n",
        "  COLAB = True\n",
        "  import torch\n",
        "  print(f\">>>> You are on CoLaB with torch version: {torch.__version__}\")\n",
        "except Exception as e:\n",
        "  print(f\">>>> {type(e)}: {e}\\n>>>> please correct {type(e)} and reload\")\n",
        "  COLAB = False\n",
        "if torch.cuda.is_available():\n",
        "  device = torch.device(\"cuda\")\n",
        "else:\n",
        "  device = torch.device(\"cpu\")\n",
        "def time_fmt(t: float = 123.187)->float:\n",
        "  h = int(t / (60 * 60))\n",
        "  m = int(t % (60 * 60) /60)\n",
        "  s = int(t % 60)\n",
        "  return f\" {h} hrs: {m:>02} min: {s:>05.2f} sec\"\n",
        "print(f\">>>> time formating\\t.......................\\n>>>> time elapsed\\t{time_fmt()}\")"
      ],
      "execution_count": 1,
      "outputs": [
        {
          "output_type": "stream",
          "text": [
            "Mounted at /content/drive\n",
            ">>>> You are on CoLaB with torch version: 1.8.1+cu101\n",
            ">>>> time formating\t.......................\n",
            ">>>> time elapsed\t 0 hrs: 02 min: 03.00 sec\n"
          ],
          "name": "stdout"
        }
      ]
    },
    {
      "cell_type": "code",
      "metadata": {
        "id": "PQDWuHg06puR"
      },
      "source": [
        "#In this notebook we are going to train a DCGAN using modified technique to penalize the loss function.\n",
        "#Insteady of gradient clipping which may bring convergence problems we apply Wasserstein loss technique.\n",
        "#This technique results ito meaningfull loss function. To compersate for BCELoss and gradient clipping \n",
        "#fake and real images are intersected and the penalty loss improves the model's performance:\n"
      ],
      "execution_count": 2,
      "outputs": []
    },
    {
      "cell_type": "code",
      "metadata": {
        "id": "U4wKmiLb8N6U"
      },
      "source": [
        "#Import necessary modules \n",
        "import torch, time, math, random, sys, os\n",
        "import numpy as np\n",
        "import torchvision\n",
        "import torchvision.transforms as transforms\n",
        "import torchvision.datasets as datasets\n",
        "import torch.nn as nn\n",
        "import torch.optim as optim\n",
        "from torch.utils.data import DataLoader\n",
        "from torch.utils.tensorboard import SummaryWriter\n",
        "import PIL\n",
        "from tqdm import tqdm"
      ],
      "execution_count": 3,
      "outputs": []
    },
    {
      "cell_type": "code",
      "metadata": {
        "id": "jcs7f_ax87AP"
      },
      "source": [
        "#Set the seed values for reproducability and the device to deterministic to avoid errors during training\n",
        "seed = 9182\n",
        "random.seed(seed)\n",
        "np.random.seed(seed)\n",
        "torch.manual_seed(seed)\n",
        "torch.cuda.manual_seed(seed)\n",
        "torch.backends.cudnn.deterministic = True"
      ],
      "execution_count": 4,
      "outputs": []
    },
    {
      "cell_type": "code",
      "metadata": {
        "id": "N6wDrfsO9YST"
      },
      "source": [
        "#This model is a complete DCGAN architectured with the only difference in the loss function\n",
        "#Here we use the Wasserstein Loss hence the name WGAN."
      ],
      "execution_count": 5,
      "outputs": []
    },
    {
      "cell_type": "code",
      "metadata": {
        "id": "ubq855I49qzl"
      },
      "source": [
        "class Discriminator(nn.Module):\n",
        "  def __init__(self, img_channels, d_features):\n",
        "    super(Discriminator, self).__init__()\n",
        "    self.discriminator = nn.Sequential(\n",
        "        nn.Conv2d(img_channels, d_features, kernel_size = 4, stride = 2, padding = 1),\n",
        "        nn.LeakyReLU(0.2),\n",
        "        self.disc_block(d_features, 2*d_features, 4, 2, 1),\n",
        "        self.disc_block(2*d_features, 4*d_features, 4, 2, 1),\n",
        "        self.disc_block(4*d_features, 8*d_features, 4, 2, 1),\n",
        "        nn.Conv2d(8*d_features, 1, kernel_size = 4, stride = 2, padding = 0))\n",
        "\n",
        "  def disc_block(self, in_channels, out_channels, kernel_size, stride, padding):\n",
        "    return nn.Sequential(\n",
        "        nn.Conv2d(\n",
        "            in_channels,\n",
        "            out_channels,\n",
        "            kernel_size,\n",
        "            stride,\n",
        "            padding,\n",
        "            bias = False\n",
        "        ),\n",
        "        nn.InstanceNorm2d(out_channels, affine = True),\n",
        "        nn.LeakyReLU(0.2))\n",
        "  \n",
        "  def forward(self, input_tensor):\n",
        "    return self.discriminator(input_tensor)\n",
        "  "
      ],
      "execution_count": 6,
      "outputs": []
    },
    {
      "cell_type": "code",
      "metadata": {
        "id": "J4pPrdmD_mAf"
      },
      "source": [
        "class Generator(nn.Module):\n",
        "  def __init__(self, img_channels, z_dim, g_features):\n",
        "    super(Generator, self).__init__()\n",
        "    self.generator = nn.Sequential(\n",
        "        self.gen_block(z_dim, 16*g_features, kernel_size = 4, stride = 2, padding = 0),\n",
        "        self.gen_block(16*g_features, 8*g_features, 4, 2, 1),\n",
        "        self.gen_block(8*g_features, 4*g_features, 4, 2, 1),\n",
        "        self.gen_block(4*g_features, 2*g_features, 4, 2, 1),\n",
        "        nn.ConvTranspose2d(2*g_features, img_channels, kernel_size = 4, stride = 2, padding = 1),\n",
        "        nn.Tanh())\n",
        "  def gen_block(self, in_channels, out_channels, kernel_size, stride, padding):\n",
        "    return nn.Sequential(\n",
        "        nn.ConvTranspose2d(in_channels,\n",
        "                           out_channels,\n",
        "                           kernel_size,\n",
        "                           stride,\n",
        "                           padding,\n",
        "                           bias = False),\n",
        "        nn.BatchNorm2d(out_channels),\n",
        "        nn.ReLU())\n",
        "  \n",
        "  def forward(self, input_tensor):\n",
        "    return self.generator(input_tensor)"
      ],
      "execution_count": 7,
      "outputs": []
    },
    {
      "cell_type": "code",
      "metadata": {
        "id": "AR8T4IadMejr"
      },
      "source": [
        "#Testing the network to see if they gives desired outputs:\n",
        "def __test__():\n",
        "  img_channels = 3\n",
        "  H,W,batch_size = 64,64,64\n",
        "  z_dim = 100\n",
        "  rand_img = torch.randn(batch_size, img_channels, W,H)#for discriminator\n",
        "  noise = torch.randn(batch_size, z_dim, 1, 1)#for generator\n",
        "  gen = Generator(img_channels, z_dim, 8)\n",
        "  disc = Discriminator(img_channels, 8)\n",
        "  gen_out = gen(noise)# expected shape [batch_size, img_channels, W, H]\n",
        "  disc_out = disc(rand_img) #expected shape [batch_size, 1, 1, 1]\n",
        "  return f\"gen_out_shape: {gen_out.shape}\\tdisc_out_shape: {disc_out.shape}\""
      ],
      "execution_count": 8,
      "outputs": []
    },
    {
      "cell_type": "code",
      "metadata": {
        "id": "IC_Bz9awhaVT"
      },
      "source": [
        "#Initialize the model parameters to random normal distribution with mean 0 and std 0.01\n",
        "def __initializer__(model):\n",
        "  for m in model.modules():\n",
        "    if isinstance(m, (nn.Conv2d, nn.ConvTranspose2d, nn.BatchNorm2d)):\n",
        "      nn.init.normal_(m.weight.data, mean = 0.0, std = 0.01)"
      ],
      "execution_count": 9,
      "outputs": []
    },
    {
      "cell_type": "code",
      "metadata": {
        "colab": {
          "base_uri": "https://localhost:8080/",
          "height": 35
        },
        "id": "Fzv_lQBnODET",
        "outputId": "62d8f435-c21a-475c-a148-ba63c3154f5b"
      },
      "source": [
        "__test__()"
      ],
      "execution_count": 10,
      "outputs": [
        {
          "output_type": "execute_result",
          "data": {
            "application/vnd.google.colaboratory.intrinsic+json": {
              "type": "string"
            },
            "text/plain": [
              "'gen_out_shape: torch.Size([64, 3, 64, 64])\\tdisc_out_shape: torch.Size([64, 1, 1, 1])'"
            ]
          },
          "metadata": {
            "tags": []
          },
          "execution_count": 10
        }
      ]
    },
    {
      "cell_type": "code",
      "metadata": {
        "colab": {
          "base_uri": "https://localhost:8080/"
        },
        "id": "g3cwUJYniO3s",
        "outputId": "5778b6cc-7cb9-453e-a810-de52da9f9ec2"
      },
      "source": [
        "#Hyperparameters\n",
        "batch_size = 128\n",
        "lambda_gp = 10 #parameter for the gradient penalty\n",
        "img_channels = 1\n",
        "img_size = 64\n",
        "d_features = 64\n",
        "g_features = 64\n",
        "learning_rate = 1e-4\n",
        "EPOCHS = 2\n",
        "z_dim = 100\n",
        "disc_iter = 5\n",
        "noise = torch.randn(batch_size, z_dim, 1, 1)\n",
        "fixed_noise = torch.randn(batch_size, z_dim, 1, 1).to(device = device)\n",
        "rand_img = torch.randn(batch_size, img_channels, d_features, g_features)\n",
        "discriminator = Discriminator(img_channels, d_features).to(device = device)\n",
        "generator = Generator(img_channels, z_dim, g_features).to(device)\n",
        "__initializer__(generator)# wt initialization for the generator\n",
        "__initializer__(discriminator) #wt initialization for the discriminator\n",
        "print(f\">>>> generator graph:\\n\\n{generator}\\n\\n>>>> discriminator graph:\\n{discriminator}\")"
      ],
      "execution_count": 11,
      "outputs": [
        {
          "output_type": "stream",
          "text": [
            ">>>> generator graph:\n",
            "\n",
            "Generator(\n",
            "  (generator): Sequential(\n",
            "    (0): Sequential(\n",
            "      (0): ConvTranspose2d(100, 1024, kernel_size=(4, 4), stride=(2, 2), bias=False)\n",
            "      (1): BatchNorm2d(1024, eps=1e-05, momentum=0.1, affine=True, track_running_stats=True)\n",
            "      (2): ReLU()\n",
            "    )\n",
            "    (1): Sequential(\n",
            "      (0): ConvTranspose2d(1024, 512, kernel_size=(4, 4), stride=(2, 2), padding=(1, 1), bias=False)\n",
            "      (1): BatchNorm2d(512, eps=1e-05, momentum=0.1, affine=True, track_running_stats=True)\n",
            "      (2): ReLU()\n",
            "    )\n",
            "    (2): Sequential(\n",
            "      (0): ConvTranspose2d(512, 256, kernel_size=(4, 4), stride=(2, 2), padding=(1, 1), bias=False)\n",
            "      (1): BatchNorm2d(256, eps=1e-05, momentum=0.1, affine=True, track_running_stats=True)\n",
            "      (2): ReLU()\n",
            "    )\n",
            "    (3): Sequential(\n",
            "      (0): ConvTranspose2d(256, 128, kernel_size=(4, 4), stride=(2, 2), padding=(1, 1), bias=False)\n",
            "      (1): BatchNorm2d(128, eps=1e-05, momentum=0.1, affine=True, track_running_stats=True)\n",
            "      (2): ReLU()\n",
            "    )\n",
            "    (4): ConvTranspose2d(128, 1, kernel_size=(4, 4), stride=(2, 2), padding=(1, 1))\n",
            "    (5): Tanh()\n",
            "  )\n",
            ")\n",
            "\n",
            ">>>> discriminator graph:\n",
            "Discriminator(\n",
            "  (discriminator): Sequential(\n",
            "    (0): Conv2d(1, 64, kernel_size=(4, 4), stride=(2, 2), padding=(1, 1))\n",
            "    (1): LeakyReLU(negative_slope=0.2)\n",
            "    (2): Sequential(\n",
            "      (0): Conv2d(64, 128, kernel_size=(4, 4), stride=(2, 2), padding=(1, 1), bias=False)\n",
            "      (1): InstanceNorm2d(128, eps=1e-05, momentum=0.1, affine=True, track_running_stats=False)\n",
            "      (2): LeakyReLU(negative_slope=0.2)\n",
            "    )\n",
            "    (3): Sequential(\n",
            "      (0): Conv2d(128, 256, kernel_size=(4, 4), stride=(2, 2), padding=(1, 1), bias=False)\n",
            "      (1): InstanceNorm2d(256, eps=1e-05, momentum=0.1, affine=True, track_running_stats=False)\n",
            "      (2): LeakyReLU(negative_slope=0.2)\n",
            "    )\n",
            "    (4): Sequential(\n",
            "      (0): Conv2d(256, 512, kernel_size=(4, 4), stride=(2, 2), padding=(1, 1), bias=False)\n",
            "      (1): InstanceNorm2d(512, eps=1e-05, momentum=0.1, affine=True, track_running_stats=False)\n",
            "      (2): LeakyReLU(negative_slope=0.2)\n",
            "    )\n",
            "    (5): Conv2d(512, 1, kernel_size=(4, 4), stride=(2, 2))\n",
            "  )\n",
            ")\n"
          ],
          "name": "stdout"
        }
      ]
    },
    {
      "cell_type": "code",
      "metadata": {
        "colab": {
          "base_uri": "https://localhost:8080/",
          "height": 879,
          "referenced_widgets": [
            "58ed12bde9e24282867ad9b8842fce2c",
            "269932c5744d48f180e5c6d6d6736c28",
            "d042b471326b460e83afb6b980a98bd5",
            "7f61d8b50ea643c8915a17edf859f0fd",
            "bf29fe81dacd420898b8429b654cba07",
            "9585a0e95ab34dc384b8729c7c7cf3c2",
            "f82c2c799f6749cd9c96cd6f22ac4452",
            "9cc26bb73e354e17ab085e663a776f73",
            "5657cba3f19246c3b7d7d49c91427cc2",
            "c0010a1b431642d18a98cf4bc18beb41",
            "0400104592254d4cb12619a54ad71f7d",
            "3be9d02559f74e5e8ab89db5979e5838",
            "5eff21e6f1a44d5b8b32589e60c19e9b",
            "1b3e7832f03f4f86a173cafb911bb07b",
            "eaf46babd4fe49109d1915168e2de272",
            "e9f63239098e4458bcb1a19700590b29",
            "65357e98eba0453699328cad02056319",
            "ff795bc2c70544aea591713965f4924f",
            "cada8f7f06ea45e2b7c72e22f531c41e",
            "48c1fbf946d142faa51a412c8bb2a8b2",
            "92683d578aa342b7a472ebe3d8803ace",
            "f6d3b7b74f374bd6883df0110bc39c94",
            "8a2891dab823477da1d0f5bf06ab6279",
            "0942c20066dc422bbb9dfa88dd8e9f1b",
            "7a897da4cfaf4f06a7c66be2d6529d06",
            "b89c55900d7f4933b035e6fb8bba7b43",
            "44fa8823e07d4e3b9eeb5151c7ef6485",
            "a13f903d8d3f4069a2ed1f1cfffe0161",
            "25f107c837bd4604a79f5ca3f2b721e4",
            "44e4f67f0bdd4976a2a25d5ffe5152db",
            "91cae88f0fcb4f989c6eba0d8111c634",
            "7c2f5da5923241c6a7930f2d40268a69"
          ]
        },
        "id": "6RSBUvmnOExi",
        "outputId": "b20755e5-36d3-40a3-b865-b0dcb5a5f0c5"
      },
      "source": [
        "#Loading and preprocessing data from torchvision\n",
        "transforms = transforms.Compose([\n",
        "                                 transforms.ToTensor(),\n",
        "                                 transforms.Resize(img_size),\n",
        "                                 transforms.Normalize([0.5 for _ in range(img_channels)],[0.5 for _ in range(img_channels)])])\n",
        "dfm = datasets.MNIST(root = \"wgans_mnist/\", transform = transforms, download = True)\n",
        "loader = DataLoader(dataset = dfm, batch_size = batch_size, shuffle = True)\n",
        "x_loader, y_loader = next(iter(loader))\n",
        "print(f\"x_loader_shape: {x_loader.shape}\\ty_loader_shape: {y_loader.shape}\")\n"
      ],
      "execution_count": 12,
      "outputs": [
        {
          "output_type": "stream",
          "text": [
            "Downloading http://yann.lecun.com/exdb/mnist/train-images-idx3-ubyte.gz\n",
            "Failed to download (trying next):\n",
            "HTTP Error 503: Service Unavailable\n",
            "\n",
            "Downloading https://ossci-datasets.s3.amazonaws.com/mnist/train-images-idx3-ubyte.gz\n",
            "Downloading https://ossci-datasets.s3.amazonaws.com/mnist/train-images-idx3-ubyte.gz to wgans_mnist/MNIST/raw/train-images-idx3-ubyte.gz\n"
          ],
          "name": "stdout"
        },
        {
          "output_type": "display_data",
          "data": {
            "application/vnd.jupyter.widget-view+json": {
              "model_id": "58ed12bde9e24282867ad9b8842fce2c",
              "version_minor": 0,
              "version_major": 2
            },
            "text/plain": [
              "HBox(children=(FloatProgress(value=0.0, max=9912422.0), HTML(value='')))"
            ]
          },
          "metadata": {
            "tags": []
          }
        },
        {
          "output_type": "stream",
          "text": [
            "\n",
            "Extracting wgans_mnist/MNIST/raw/train-images-idx3-ubyte.gz to wgans_mnist/MNIST/raw\n",
            "\n",
            "Downloading http://yann.lecun.com/exdb/mnist/train-labels-idx1-ubyte.gz\n",
            "Failed to download (trying next):\n",
            "HTTP Error 503: Service Unavailable\n",
            "\n",
            "Downloading https://ossci-datasets.s3.amazonaws.com/mnist/train-labels-idx1-ubyte.gz\n",
            "Downloading https://ossci-datasets.s3.amazonaws.com/mnist/train-labels-idx1-ubyte.gz to wgans_mnist/MNIST/raw/train-labels-idx1-ubyte.gz\n"
          ],
          "name": "stdout"
        },
        {
          "output_type": "display_data",
          "data": {
            "application/vnd.jupyter.widget-view+json": {
              "model_id": "5657cba3f19246c3b7d7d49c91427cc2",
              "version_minor": 0,
              "version_major": 2
            },
            "text/plain": [
              "HBox(children=(FloatProgress(value=0.0, max=28881.0), HTML(value='')))"
            ]
          },
          "metadata": {
            "tags": []
          }
        },
        {
          "output_type": "stream",
          "text": [
            "\n",
            "Extracting wgans_mnist/MNIST/raw/train-labels-idx1-ubyte.gz to wgans_mnist/MNIST/raw\n",
            "\n",
            "Downloading http://yann.lecun.com/exdb/mnist/t10k-images-idx3-ubyte.gz\n",
            "Downloading http://yann.lecun.com/exdb/mnist/t10k-images-idx3-ubyte.gz to wgans_mnist/MNIST/raw/t10k-images-idx3-ubyte.gz\n",
            "Failed to download (trying next):\n",
            "HTTP Error 503: Service Unavailable\n",
            "\n",
            "Downloading https://ossci-datasets.s3.amazonaws.com/mnist/t10k-images-idx3-ubyte.gz\n",
            "Downloading https://ossci-datasets.s3.amazonaws.com/mnist/t10k-images-idx3-ubyte.gz to wgans_mnist/MNIST/raw/t10k-images-idx3-ubyte.gz\n"
          ],
          "name": "stdout"
        },
        {
          "output_type": "display_data",
          "data": {
            "application/vnd.jupyter.widget-view+json": {
              "model_id": "65357e98eba0453699328cad02056319",
              "version_minor": 0,
              "version_major": 2
            },
            "text/plain": [
              "HBox(children=(FloatProgress(value=0.0, max=1648877.0), HTML(value='')))"
            ]
          },
          "metadata": {
            "tags": []
          }
        },
        {
          "output_type": "stream",
          "text": [
            "\n",
            "Extracting wgans_mnist/MNIST/raw/t10k-images-idx3-ubyte.gz to wgans_mnist/MNIST/raw\n",
            "\n",
            "Downloading http://yann.lecun.com/exdb/mnist/t10k-labels-idx1-ubyte.gz\n",
            "Failed to download (trying next):\n",
            "HTTP Error 503: Service Unavailable\n",
            "\n",
            "Downloading https://ossci-datasets.s3.amazonaws.com/mnist/t10k-labels-idx1-ubyte.gz\n",
            "Downloading https://ossci-datasets.s3.amazonaws.com/mnist/t10k-labels-idx1-ubyte.gz to wgans_mnist/MNIST/raw/t10k-labels-idx1-ubyte.gz\n"
          ],
          "name": "stdout"
        },
        {
          "output_type": "display_data",
          "data": {
            "application/vnd.jupyter.widget-view+json": {
              "model_id": "7a897da4cfaf4f06a7c66be2d6529d06",
              "version_minor": 0,
              "version_major": 2
            },
            "text/plain": [
              "HBox(children=(FloatProgress(value=0.0, max=4542.0), HTML(value='')))"
            ]
          },
          "metadata": {
            "tags": []
          }
        },
        {
          "output_type": "stream",
          "text": [
            "\n",
            "Extracting wgans_mnist/MNIST/raw/t10k-labels-idx1-ubyte.gz to wgans_mnist/MNIST/raw\n",
            "\n",
            "Processing...\n",
            "Done!\n"
          ],
          "name": "stdout"
        },
        {
          "output_type": "stream",
          "text": [
            "/usr/local/lib/python3.7/dist-packages/torchvision/datasets/mnist.py:502: UserWarning: The given NumPy array is not writeable, and PyTorch does not support non-writeable tensors. This means you can write to the underlying (supposedly non-writeable) NumPy array using the tensor. You may want to copy the array to protect its data or make it writeable before converting it to a tensor. This type of warning will be suppressed for the rest of this program. (Triggered internally at  /pytorch/torch/csrc/utils/tensor_numpy.cpp:143.)\n",
            "  return torch.from_numpy(parsed.astype(m[2], copy=False)).view(*s)\n"
          ],
          "name": "stderr"
        },
        {
          "output_type": "stream",
          "text": [
            "x_loader_shape: torch.Size([128, 1, 64, 64])\ty_loader_shape: torch.Size([128])\n"
          ],
          "name": "stdout"
        }
      ]
    },
    {
      "cell_type": "code",
      "metadata": {
        "id": "VJpLzcu6m5LU"
      },
      "source": [
        "#The gradient penalty: This function will compute the penalt factor to penalize the slopes of the wight to improve \n",
        "#the discriminator performance\n",
        "def __gp__(discriminator, real_img, fake_img, device = device):\n",
        "  batch_size, channels, H, W = real_img.shape\n",
        "  #compute the epsilon factor to enable images interpolation\n",
        "  e = torch.randn(batch_size, 1,1,1).repeat(1, channels, H, W).to(device = device)\n",
        "  ip_imgs = e * real_img + (1-e) * fake_img #results into a hybrid images\n",
        "  ip_scores = discriminator(ip_imgs) #compute score if we apply the hybrid image to the discriminator\n",
        "  #computing the gradient penalty. (see the paper (WGAN-paper for more details))\n",
        "  grads = torch.autograd.grad(\n",
        "      inputs = ip_imgs,\n",
        "      outputs = ip_scores,\n",
        "      grad_outputs = torch.ones_like(ip_scores),\n",
        "      create_graph = True, \n",
        "      retain_graph = True)[0]\n",
        "  grads = grads.view(grads.shape[0], -1)\n",
        "  grad_norm = grads.norm(2, dim = 1)\n",
        "  gp = torch.mean((grad_norm - 1)**2)\n",
        "  return gp\n"
      ],
      "execution_count": 13,
      "outputs": []
    },
    {
      "cell_type": "code",
      "metadata": {
        "id": "WWqe_YU4lWgO"
      },
      "source": [
        "#Get the optimizer, tensorboard roots\n",
        "gen_opt = optim.Adam(params = generator.parameters(), lr = learning_rate, betas = (0.0, 0.99))\n",
        "disc_opt = optim.Adam(params = discriminator.parameters(), lr = learning_rate, betas = (0.0, 0.99))"
      ],
      "execution_count": 14,
      "outputs": []
    },
    {
      "cell_type": "code",
      "metadata": {
        "colab": {
          "base_uri": "https://localhost:8080/"
        },
        "id": "atA1b7BPm2jB",
        "outputId": "f616a2ce-bbcf-4486-87b8-57e12c9a7339"
      },
      "source": [
        "#The training loop\n",
        "step = 0\n",
        "real_writer = SummaryWriter(f\"runs/real_images\")\n",
        "fake_writer = SummaryWriter(f\"runs/fake_images\")\n",
        "global_tic = time.time()\n",
        "for epoch in range(EPOCHS):\n",
        "  tic = time.time()\n",
        "  print(f\"\\n>>>> training starts for epoch {epoch + 1}\\n>>>> please wait while model is training........\")\n",
        "  for idx, (real, _) in enumerate(tqdm(loader)):\n",
        "    real = real.to(device = device)\n",
        "    #training the discriminator\n",
        "    noise = torch.randn(batch_size, z_dim, 1, 1).to(device = device)\n",
        "    fake_image = generator(noise)\n",
        "    for _ in range(disc_iter):\n",
        "      noise = torch.randn(batch_size, z_dim, 1, 1).to(device = device)\n",
        "      fake_image = generator(noise)\n",
        "      disc_real_out = discriminator(real).reshape(-1)#flattening to 1d\n",
        "      disc_fake_out = discriminator(fake_image).reshape(-1)#flattening to 1d\n",
        "      real_loss = torch.mean(disc_real_out)\n",
        "      fake_loss = torch.mean(disc_fake_out)\n",
        "      gp = __gp__(discriminator,real, fake_image,device)\n",
        "      disc_loss = (-(real_loss - fake_loss) + lambda_gp *gp)\n",
        "      discriminator.zero_grad()\n",
        "      disc_loss.backward(retain_graph = True)\n",
        "      disc_opt.step()\n",
        "    #training the generator\n",
        "    gen_out = discriminator(fake_image).reshape(-1)\n",
        "    gen_loss = -torch.mean(gen_out)\n",
        "    generator.zero_grad()\n",
        "    gen_loss.backward()\n",
        "    gen_opt.step()\n",
        "    toc = time.time()\n",
        "    if idx % 200 == 0:\n",
        "      print(f\"\\n>>>> time elapsed at the end of epoch {epoch + 1} for batch {idx} is {time_fmt(toc - tic)}\")\n",
        "      print(f\">>>> generator loss: {gen_loss:.4f} | generatot PPL: {math.exp(gen_loss):7.4f}\")\n",
        "      print(f\">>>> discriminator loss: {disc_loss:.4f} | discriminator PPL: {math.exp(disc_loss):7.4f}\")\n",
        "      #Recorning to tensorboard\n",
        "      with torch.no_grad():\n",
        "        fake_image = generator(fixed_noise)\n",
        "        real_img_grid = torchvision.utils.make_grid(real[:32], normalize = True)\n",
        "        fake_img_grid = torchvision.utils.make_grid(fake_image[:32], normalize = True)\n",
        "        real_writer.add_image(\"real_images\", real_img_grid, global_step = step)\n",
        "        fake_writer.add_image(\"fake_images\", fake_img_grid, global_step = step)\n",
        "      step += 1\n",
        "global_toc = time.time()\n",
        "print(f\"\\n>>>> time elapsed after 10 epochs training is: {time_fmt(global_toc - global_tic)}\")"
      ],
      "execution_count": null,
      "outputs": [
        {
          "output_type": "stream",
          "text": [
            "\n",
            "  0%|          | 0/469 [00:00<?, ?it/s]\u001b[A"
          ],
          "name": "stderr"
        },
        {
          "output_type": "stream",
          "text": [
            "\n",
            ">>>> training starts for epoch 1\n",
            ">>>> please wait while model is training........\n",
            "\n",
            ">>>> time elapsed at the end of epoch 1 for batch 0 is  0 hrs: 00 min: 04.00 sec\n",
            ">>>> generator loss: 59.5622 | generatot PPL: 73711602955997443725983744.0000\n",
            ">>>> discriminator loss: -32.3376 | discriminator PPL:  0.0000\n"
          ],
          "name": "stdout"
        },
        {
          "output_type": "stream",
          "text": [
            "\n",
            "  0%|          | 1/469 [00:05<43:34,  5.59s/it]\u001b[A\n",
            "  0%|          | 2/469 [00:10<41:20,  5.31s/it]\u001b[A\n",
            "  1%|          | 3/469 [00:15<40:36,  5.23s/it]\u001b[A\n",
            "  1%|          | 4/469 [00:20<40:07,  5.18s/it]\u001b[A\n",
            "  1%|          | 5/469 [00:25<39:46,  5.14s/it]\u001b[A\n",
            "  1%|▏         | 6/469 [00:30<39:32,  5.12s/it]\u001b[A\n",
            "  1%|▏         | 7/469 [00:35<39:21,  5.11s/it]\u001b[A\n"
          ],
          "name": "stderr"
        }
      ]
    },
    {
      "cell_type": "code",
      "metadata": {
        "id": "WmLwmE_N55_e"
      },
      "source": [
        ""
      ],
      "execution_count": null,
      "outputs": []
    }
  ]
}