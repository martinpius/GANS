{
  "nbformat": 4,
  "nbformat_minor": 0,
  "metadata": {
    "colab": {
      "name": "BiG GAN-RECARP.ipynb",
      "provenance": [],
      "collapsed_sections": [],
      "authorship_tag": "ABX9TyO4kZCzBNdieP/xFy0zt3k3",
      "include_colab_link": true
    },
    "kernelspec": {
      "name": "python3",
      "display_name": "Python 3"
    },
    "language_info": {
      "name": "python"
    },
    "accelerator": "GPU",
    "widgets": {
      "application/vnd.jupyter.widget-state+json": {
        "ec08a9ca594b407f8845c9bfb97fde21": {
          "model_module": "@jupyter-widgets/controls",
          "model_name": "HBoxModel",
          "state": {
            "_view_name": "HBoxView",
            "_dom_classes": [],
            "_model_name": "HBoxModel",
            "_view_module": "@jupyter-widgets/controls",
            "_model_module_version": "1.5.0",
            "_view_count": null,
            "_view_module_version": "1.5.0",
            "box_style": "",
            "layout": "IPY_MODEL_26b757b0417f461da97fe4aceb9f250c",
            "_model_module": "@jupyter-widgets/controls",
            "children": [
              "IPY_MODEL_96383b12b9524fcf9ff2d7c4b640287e",
              "IPY_MODEL_9fe1802556714491a564c1cb8ed4d2b9"
            ]
          }
        },
        "26b757b0417f461da97fe4aceb9f250c": {
          "model_module": "@jupyter-widgets/base",
          "model_name": "LayoutModel",
          "state": {
            "_view_name": "LayoutView",
            "grid_template_rows": null,
            "right": null,
            "justify_content": null,
            "_view_module": "@jupyter-widgets/base",
            "overflow": null,
            "_model_module_version": "1.2.0",
            "_view_count": null,
            "flex_flow": null,
            "width": null,
            "min_width": null,
            "border": null,
            "align_items": null,
            "bottom": null,
            "_model_module": "@jupyter-widgets/base",
            "top": null,
            "grid_column": null,
            "overflow_y": null,
            "overflow_x": null,
            "grid_auto_flow": null,
            "grid_area": null,
            "grid_template_columns": null,
            "flex": null,
            "_model_name": "LayoutModel",
            "justify_items": null,
            "grid_row": null,
            "max_height": null,
            "align_content": null,
            "visibility": null,
            "align_self": null,
            "height": null,
            "min_height": null,
            "padding": null,
            "grid_auto_rows": null,
            "grid_gap": null,
            "max_width": null,
            "order": null,
            "_view_module_version": "1.2.0",
            "grid_template_areas": null,
            "object_position": null,
            "object_fit": null,
            "grid_auto_columns": null,
            "margin": null,
            "display": null,
            "left": null
          }
        },
        "96383b12b9524fcf9ff2d7c4b640287e": {
          "model_module": "@jupyter-widgets/controls",
          "model_name": "FloatProgressModel",
          "state": {
            "_view_name": "ProgressView",
            "style": "IPY_MODEL_509350e8c6a34cd38ed816ae5d5f1311",
            "_dom_classes": [],
            "description": "",
            "_model_name": "FloatProgressModel",
            "bar_style": "success",
            "max": 9912422,
            "_view_module": "@jupyter-widgets/controls",
            "_model_module_version": "1.5.0",
            "value": 9912422,
            "_view_count": null,
            "_view_module_version": "1.5.0",
            "orientation": "horizontal",
            "min": 0,
            "description_tooltip": null,
            "_model_module": "@jupyter-widgets/controls",
            "layout": "IPY_MODEL_99779220d92845589c224c883a3914ba"
          }
        },
        "9fe1802556714491a564c1cb8ed4d2b9": {
          "model_module": "@jupyter-widgets/controls",
          "model_name": "HTMLModel",
          "state": {
            "_view_name": "HTMLView",
            "style": "IPY_MODEL_06bddac2c27e45729831973bf082f469",
            "_dom_classes": [],
            "description": "",
            "_model_name": "HTMLModel",
            "placeholder": "​",
            "_view_module": "@jupyter-widgets/controls",
            "_model_module_version": "1.5.0",
            "value": " 9913344/? [05:58&lt;00:00, 27631.18it/s]",
            "_view_count": null,
            "_view_module_version": "1.5.0",
            "description_tooltip": null,
            "_model_module": "@jupyter-widgets/controls",
            "layout": "IPY_MODEL_8a944545522c4d7292daa6efdaad335d"
          }
        },
        "509350e8c6a34cd38ed816ae5d5f1311": {
          "model_module": "@jupyter-widgets/controls",
          "model_name": "ProgressStyleModel",
          "state": {
            "_view_name": "StyleView",
            "_model_name": "ProgressStyleModel",
            "description_width": "initial",
            "_view_module": "@jupyter-widgets/base",
            "_model_module_version": "1.5.0",
            "_view_count": null,
            "_view_module_version": "1.2.0",
            "bar_color": null,
            "_model_module": "@jupyter-widgets/controls"
          }
        },
        "99779220d92845589c224c883a3914ba": {
          "model_module": "@jupyter-widgets/base",
          "model_name": "LayoutModel",
          "state": {
            "_view_name": "LayoutView",
            "grid_template_rows": null,
            "right": null,
            "justify_content": null,
            "_view_module": "@jupyter-widgets/base",
            "overflow": null,
            "_model_module_version": "1.2.0",
            "_view_count": null,
            "flex_flow": null,
            "width": null,
            "min_width": null,
            "border": null,
            "align_items": null,
            "bottom": null,
            "_model_module": "@jupyter-widgets/base",
            "top": null,
            "grid_column": null,
            "overflow_y": null,
            "overflow_x": null,
            "grid_auto_flow": null,
            "grid_area": null,
            "grid_template_columns": null,
            "flex": null,
            "_model_name": "LayoutModel",
            "justify_items": null,
            "grid_row": null,
            "max_height": null,
            "align_content": null,
            "visibility": null,
            "align_self": null,
            "height": null,
            "min_height": null,
            "padding": null,
            "grid_auto_rows": null,
            "grid_gap": null,
            "max_width": null,
            "order": null,
            "_view_module_version": "1.2.0",
            "grid_template_areas": null,
            "object_position": null,
            "object_fit": null,
            "grid_auto_columns": null,
            "margin": null,
            "display": null,
            "left": null
          }
        },
        "06bddac2c27e45729831973bf082f469": {
          "model_module": "@jupyter-widgets/controls",
          "model_name": "DescriptionStyleModel",
          "state": {
            "_view_name": "StyleView",
            "_model_name": "DescriptionStyleModel",
            "description_width": "",
            "_view_module": "@jupyter-widgets/base",
            "_model_module_version": "1.5.0",
            "_view_count": null,
            "_view_module_version": "1.2.0",
            "_model_module": "@jupyter-widgets/controls"
          }
        },
        "8a944545522c4d7292daa6efdaad335d": {
          "model_module": "@jupyter-widgets/base",
          "model_name": "LayoutModel",
          "state": {
            "_view_name": "LayoutView",
            "grid_template_rows": null,
            "right": null,
            "justify_content": null,
            "_view_module": "@jupyter-widgets/base",
            "overflow": null,
            "_model_module_version": "1.2.0",
            "_view_count": null,
            "flex_flow": null,
            "width": null,
            "min_width": null,
            "border": null,
            "align_items": null,
            "bottom": null,
            "_model_module": "@jupyter-widgets/base",
            "top": null,
            "grid_column": null,
            "overflow_y": null,
            "overflow_x": null,
            "grid_auto_flow": null,
            "grid_area": null,
            "grid_template_columns": null,
            "flex": null,
            "_model_name": "LayoutModel",
            "justify_items": null,
            "grid_row": null,
            "max_height": null,
            "align_content": null,
            "visibility": null,
            "align_self": null,
            "height": null,
            "min_height": null,
            "padding": null,
            "grid_auto_rows": null,
            "grid_gap": null,
            "max_width": null,
            "order": null,
            "_view_module_version": "1.2.0",
            "grid_template_areas": null,
            "object_position": null,
            "object_fit": null,
            "grid_auto_columns": null,
            "margin": null,
            "display": null,
            "left": null
          }
        },
        "ff4989cef8c34c6dbd2632ae812ee28e": {
          "model_module": "@jupyter-widgets/controls",
          "model_name": "HBoxModel",
          "state": {
            "_view_name": "HBoxView",
            "_dom_classes": [],
            "_model_name": "HBoxModel",
            "_view_module": "@jupyter-widgets/controls",
            "_model_module_version": "1.5.0",
            "_view_count": null,
            "_view_module_version": "1.5.0",
            "box_style": "",
            "layout": "IPY_MODEL_d5c1ab7941a7435eacac5fa2378c6a81",
            "_model_module": "@jupyter-widgets/controls",
            "children": [
              "IPY_MODEL_51bf809c8a8c4da7a9d10d6148d9b342",
              "IPY_MODEL_e374bbe3b1704360b45dd9a9860a84c6"
            ]
          }
        },
        "d5c1ab7941a7435eacac5fa2378c6a81": {
          "model_module": "@jupyter-widgets/base",
          "model_name": "LayoutModel",
          "state": {
            "_view_name": "LayoutView",
            "grid_template_rows": null,
            "right": null,
            "justify_content": null,
            "_view_module": "@jupyter-widgets/base",
            "overflow": null,
            "_model_module_version": "1.2.0",
            "_view_count": null,
            "flex_flow": null,
            "width": null,
            "min_width": null,
            "border": null,
            "align_items": null,
            "bottom": null,
            "_model_module": "@jupyter-widgets/base",
            "top": null,
            "grid_column": null,
            "overflow_y": null,
            "overflow_x": null,
            "grid_auto_flow": null,
            "grid_area": null,
            "grid_template_columns": null,
            "flex": null,
            "_model_name": "LayoutModel",
            "justify_items": null,
            "grid_row": null,
            "max_height": null,
            "align_content": null,
            "visibility": null,
            "align_self": null,
            "height": null,
            "min_height": null,
            "padding": null,
            "grid_auto_rows": null,
            "grid_gap": null,
            "max_width": null,
            "order": null,
            "_view_module_version": "1.2.0",
            "grid_template_areas": null,
            "object_position": null,
            "object_fit": null,
            "grid_auto_columns": null,
            "margin": null,
            "display": null,
            "left": null
          }
        },
        "51bf809c8a8c4da7a9d10d6148d9b342": {
          "model_module": "@jupyter-widgets/controls",
          "model_name": "FloatProgressModel",
          "state": {
            "_view_name": "ProgressView",
            "style": "IPY_MODEL_a441446cf0aa4c07b9506c27814b6be0",
            "_dom_classes": [],
            "description": "",
            "_model_name": "FloatProgressModel",
            "bar_style": "success",
            "max": 28881,
            "_view_module": "@jupyter-widgets/controls",
            "_model_module_version": "1.5.0",
            "value": 28881,
            "_view_count": null,
            "_view_module_version": "1.5.0",
            "orientation": "horizontal",
            "min": 0,
            "description_tooltip": null,
            "_model_module": "@jupyter-widgets/controls",
            "layout": "IPY_MODEL_555fd64ca2f64f8dac99aae971988da1"
          }
        },
        "e374bbe3b1704360b45dd9a9860a84c6": {
          "model_module": "@jupyter-widgets/controls",
          "model_name": "HTMLModel",
          "state": {
            "_view_name": "HTMLView",
            "style": "IPY_MODEL_b5a9b30cf962427fbdee44be0822c994",
            "_dom_classes": [],
            "description": "",
            "_model_name": "HTMLModel",
            "placeholder": "​",
            "_view_module": "@jupyter-widgets/controls",
            "_model_module_version": "1.5.0",
            "value": " 29696/? [01:00&lt;00:00, 494.30it/s]",
            "_view_count": null,
            "_view_module_version": "1.5.0",
            "description_tooltip": null,
            "_model_module": "@jupyter-widgets/controls",
            "layout": "IPY_MODEL_0a8a1775b80946249bbd1ecdf0cdb85c"
          }
        },
        "a441446cf0aa4c07b9506c27814b6be0": {
          "model_module": "@jupyter-widgets/controls",
          "model_name": "ProgressStyleModel",
          "state": {
            "_view_name": "StyleView",
            "_model_name": "ProgressStyleModel",
            "description_width": "initial",
            "_view_module": "@jupyter-widgets/base",
            "_model_module_version": "1.5.0",
            "_view_count": null,
            "_view_module_version": "1.2.0",
            "bar_color": null,
            "_model_module": "@jupyter-widgets/controls"
          }
        },
        "555fd64ca2f64f8dac99aae971988da1": {
          "model_module": "@jupyter-widgets/base",
          "model_name": "LayoutModel",
          "state": {
            "_view_name": "LayoutView",
            "grid_template_rows": null,
            "right": null,
            "justify_content": null,
            "_view_module": "@jupyter-widgets/base",
            "overflow": null,
            "_model_module_version": "1.2.0",
            "_view_count": null,
            "flex_flow": null,
            "width": null,
            "min_width": null,
            "border": null,
            "align_items": null,
            "bottom": null,
            "_model_module": "@jupyter-widgets/base",
            "top": null,
            "grid_column": null,
            "overflow_y": null,
            "overflow_x": null,
            "grid_auto_flow": null,
            "grid_area": null,
            "grid_template_columns": null,
            "flex": null,
            "_model_name": "LayoutModel",
            "justify_items": null,
            "grid_row": null,
            "max_height": null,
            "align_content": null,
            "visibility": null,
            "align_self": null,
            "height": null,
            "min_height": null,
            "padding": null,
            "grid_auto_rows": null,
            "grid_gap": null,
            "max_width": null,
            "order": null,
            "_view_module_version": "1.2.0",
            "grid_template_areas": null,
            "object_position": null,
            "object_fit": null,
            "grid_auto_columns": null,
            "margin": null,
            "display": null,
            "left": null
          }
        },
        "b5a9b30cf962427fbdee44be0822c994": {
          "model_module": "@jupyter-widgets/controls",
          "model_name": "DescriptionStyleModel",
          "state": {
            "_view_name": "StyleView",
            "_model_name": "DescriptionStyleModel",
            "description_width": "",
            "_view_module": "@jupyter-widgets/base",
            "_model_module_version": "1.5.0",
            "_view_count": null,
            "_view_module_version": "1.2.0",
            "_model_module": "@jupyter-widgets/controls"
          }
        },
        "0a8a1775b80946249bbd1ecdf0cdb85c": {
          "model_module": "@jupyter-widgets/base",
          "model_name": "LayoutModel",
          "state": {
            "_view_name": "LayoutView",
            "grid_template_rows": null,
            "right": null,
            "justify_content": null,
            "_view_module": "@jupyter-widgets/base",
            "overflow": null,
            "_model_module_version": "1.2.0",
            "_view_count": null,
            "flex_flow": null,
            "width": null,
            "min_width": null,
            "border": null,
            "align_items": null,
            "bottom": null,
            "_model_module": "@jupyter-widgets/base",
            "top": null,
            "grid_column": null,
            "overflow_y": null,
            "overflow_x": null,
            "grid_auto_flow": null,
            "grid_area": null,
            "grid_template_columns": null,
            "flex": null,
            "_model_name": "LayoutModel",
            "justify_items": null,
            "grid_row": null,
            "max_height": null,
            "align_content": null,
            "visibility": null,
            "align_self": null,
            "height": null,
            "min_height": null,
            "padding": null,
            "grid_auto_rows": null,
            "grid_gap": null,
            "max_width": null,
            "order": null,
            "_view_module_version": "1.2.0",
            "grid_template_areas": null,
            "object_position": null,
            "object_fit": null,
            "grid_auto_columns": null,
            "margin": null,
            "display": null,
            "left": null
          }
        },
        "7c36bdfdce4c4da6b260445ba49f965a": {
          "model_module": "@jupyter-widgets/controls",
          "model_name": "HBoxModel",
          "state": {
            "_view_name": "HBoxView",
            "_dom_classes": [],
            "_model_name": "HBoxModel",
            "_view_module": "@jupyter-widgets/controls",
            "_model_module_version": "1.5.0",
            "_view_count": null,
            "_view_module_version": "1.5.0",
            "box_style": "",
            "layout": "IPY_MODEL_a123674494674cd78c6cd86c0b930e19",
            "_model_module": "@jupyter-widgets/controls",
            "children": [
              "IPY_MODEL_8ef6ff6ee70548989f3f05ffc572a255",
              "IPY_MODEL_f7f14e74a4f940acb6afaed80270af95"
            ]
          }
        },
        "a123674494674cd78c6cd86c0b930e19": {
          "model_module": "@jupyter-widgets/base",
          "model_name": "LayoutModel",
          "state": {
            "_view_name": "LayoutView",
            "grid_template_rows": null,
            "right": null,
            "justify_content": null,
            "_view_module": "@jupyter-widgets/base",
            "overflow": null,
            "_model_module_version": "1.2.0",
            "_view_count": null,
            "flex_flow": null,
            "width": null,
            "min_width": null,
            "border": null,
            "align_items": null,
            "bottom": null,
            "_model_module": "@jupyter-widgets/base",
            "top": null,
            "grid_column": null,
            "overflow_y": null,
            "overflow_x": null,
            "grid_auto_flow": null,
            "grid_area": null,
            "grid_template_columns": null,
            "flex": null,
            "_model_name": "LayoutModel",
            "justify_items": null,
            "grid_row": null,
            "max_height": null,
            "align_content": null,
            "visibility": null,
            "align_self": null,
            "height": null,
            "min_height": null,
            "padding": null,
            "grid_auto_rows": null,
            "grid_gap": null,
            "max_width": null,
            "order": null,
            "_view_module_version": "1.2.0",
            "grid_template_areas": null,
            "object_position": null,
            "object_fit": null,
            "grid_auto_columns": null,
            "margin": null,
            "display": null,
            "left": null
          }
        },
        "8ef6ff6ee70548989f3f05ffc572a255": {
          "model_module": "@jupyter-widgets/controls",
          "model_name": "FloatProgressModel",
          "state": {
            "_view_name": "ProgressView",
            "style": "IPY_MODEL_dcaa66bd51734d03a985e5ff93f6f249",
            "_dom_classes": [],
            "description": "",
            "_model_name": "FloatProgressModel",
            "bar_style": "success",
            "max": 1648877,
            "_view_module": "@jupyter-widgets/controls",
            "_model_module_version": "1.5.0",
            "value": 1648877,
            "_view_count": null,
            "_view_module_version": "1.5.0",
            "orientation": "horizontal",
            "min": 0,
            "description_tooltip": null,
            "_model_module": "@jupyter-widgets/controls",
            "layout": "IPY_MODEL_14cc4e7ec1df4e92ba399a286134ec8b"
          }
        },
        "f7f14e74a4f940acb6afaed80270af95": {
          "model_module": "@jupyter-widgets/controls",
          "model_name": "HTMLModel",
          "state": {
            "_view_name": "HTMLView",
            "style": "IPY_MODEL_ec33acc8e11d450280ed042421829be7",
            "_dom_classes": [],
            "description": "",
            "_model_name": "HTMLModel",
            "placeholder": "​",
            "_view_module": "@jupyter-widgets/controls",
            "_model_module_version": "1.5.0",
            "value": " 1649664/? [00:51&lt;00:00, 31961.36it/s]",
            "_view_count": null,
            "_view_module_version": "1.5.0",
            "description_tooltip": null,
            "_model_module": "@jupyter-widgets/controls",
            "layout": "IPY_MODEL_26dcf52a814740b6a647a562cc0bca57"
          }
        },
        "dcaa66bd51734d03a985e5ff93f6f249": {
          "model_module": "@jupyter-widgets/controls",
          "model_name": "ProgressStyleModel",
          "state": {
            "_view_name": "StyleView",
            "_model_name": "ProgressStyleModel",
            "description_width": "initial",
            "_view_module": "@jupyter-widgets/base",
            "_model_module_version": "1.5.0",
            "_view_count": null,
            "_view_module_version": "1.2.0",
            "bar_color": null,
            "_model_module": "@jupyter-widgets/controls"
          }
        },
        "14cc4e7ec1df4e92ba399a286134ec8b": {
          "model_module": "@jupyter-widgets/base",
          "model_name": "LayoutModel",
          "state": {
            "_view_name": "LayoutView",
            "grid_template_rows": null,
            "right": null,
            "justify_content": null,
            "_view_module": "@jupyter-widgets/base",
            "overflow": null,
            "_model_module_version": "1.2.0",
            "_view_count": null,
            "flex_flow": null,
            "width": null,
            "min_width": null,
            "border": null,
            "align_items": null,
            "bottom": null,
            "_model_module": "@jupyter-widgets/base",
            "top": null,
            "grid_column": null,
            "overflow_y": null,
            "overflow_x": null,
            "grid_auto_flow": null,
            "grid_area": null,
            "grid_template_columns": null,
            "flex": null,
            "_model_name": "LayoutModel",
            "justify_items": null,
            "grid_row": null,
            "max_height": null,
            "align_content": null,
            "visibility": null,
            "align_self": null,
            "height": null,
            "min_height": null,
            "padding": null,
            "grid_auto_rows": null,
            "grid_gap": null,
            "max_width": null,
            "order": null,
            "_view_module_version": "1.2.0",
            "grid_template_areas": null,
            "object_position": null,
            "object_fit": null,
            "grid_auto_columns": null,
            "margin": null,
            "display": null,
            "left": null
          }
        },
        "ec33acc8e11d450280ed042421829be7": {
          "model_module": "@jupyter-widgets/controls",
          "model_name": "DescriptionStyleModel",
          "state": {
            "_view_name": "StyleView",
            "_model_name": "DescriptionStyleModel",
            "description_width": "",
            "_view_module": "@jupyter-widgets/base",
            "_model_module_version": "1.5.0",
            "_view_count": null,
            "_view_module_version": "1.2.0",
            "_model_module": "@jupyter-widgets/controls"
          }
        },
        "26dcf52a814740b6a647a562cc0bca57": {
          "model_module": "@jupyter-widgets/base",
          "model_name": "LayoutModel",
          "state": {
            "_view_name": "LayoutView",
            "grid_template_rows": null,
            "right": null,
            "justify_content": null,
            "_view_module": "@jupyter-widgets/base",
            "overflow": null,
            "_model_module_version": "1.2.0",
            "_view_count": null,
            "flex_flow": null,
            "width": null,
            "min_width": null,
            "border": null,
            "align_items": null,
            "bottom": null,
            "_model_module": "@jupyter-widgets/base",
            "top": null,
            "grid_column": null,
            "overflow_y": null,
            "overflow_x": null,
            "grid_auto_flow": null,
            "grid_area": null,
            "grid_template_columns": null,
            "flex": null,
            "_model_name": "LayoutModel",
            "justify_items": null,
            "grid_row": null,
            "max_height": null,
            "align_content": null,
            "visibility": null,
            "align_self": null,
            "height": null,
            "min_height": null,
            "padding": null,
            "grid_auto_rows": null,
            "grid_gap": null,
            "max_width": null,
            "order": null,
            "_view_module_version": "1.2.0",
            "grid_template_areas": null,
            "object_position": null,
            "object_fit": null,
            "grid_auto_columns": null,
            "margin": null,
            "display": null,
            "left": null
          }
        },
        "18081c0512b94431a243269ad8829a0b": {
          "model_module": "@jupyter-widgets/controls",
          "model_name": "HBoxModel",
          "state": {
            "_view_name": "HBoxView",
            "_dom_classes": [],
            "_model_name": "HBoxModel",
            "_view_module": "@jupyter-widgets/controls",
            "_model_module_version": "1.5.0",
            "_view_count": null,
            "_view_module_version": "1.5.0",
            "box_style": "",
            "layout": "IPY_MODEL_486c3c780cd8462aa9cf14c61b3442c7",
            "_model_module": "@jupyter-widgets/controls",
            "children": [
              "IPY_MODEL_596859a176a04c7e882be0e755ca72a2",
              "IPY_MODEL_279bae0495df4c528c09f51ea18454a7"
            ]
          }
        },
        "486c3c780cd8462aa9cf14c61b3442c7": {
          "model_module": "@jupyter-widgets/base",
          "model_name": "LayoutModel",
          "state": {
            "_view_name": "LayoutView",
            "grid_template_rows": null,
            "right": null,
            "justify_content": null,
            "_view_module": "@jupyter-widgets/base",
            "overflow": null,
            "_model_module_version": "1.2.0",
            "_view_count": null,
            "flex_flow": null,
            "width": null,
            "min_width": null,
            "border": null,
            "align_items": null,
            "bottom": null,
            "_model_module": "@jupyter-widgets/base",
            "top": null,
            "grid_column": null,
            "overflow_y": null,
            "overflow_x": null,
            "grid_auto_flow": null,
            "grid_area": null,
            "grid_template_columns": null,
            "flex": null,
            "_model_name": "LayoutModel",
            "justify_items": null,
            "grid_row": null,
            "max_height": null,
            "align_content": null,
            "visibility": null,
            "align_self": null,
            "height": null,
            "min_height": null,
            "padding": null,
            "grid_auto_rows": null,
            "grid_gap": null,
            "max_width": null,
            "order": null,
            "_view_module_version": "1.2.0",
            "grid_template_areas": null,
            "object_position": null,
            "object_fit": null,
            "grid_auto_columns": null,
            "margin": null,
            "display": null,
            "left": null
          }
        },
        "596859a176a04c7e882be0e755ca72a2": {
          "model_module": "@jupyter-widgets/controls",
          "model_name": "FloatProgressModel",
          "state": {
            "_view_name": "ProgressView",
            "style": "IPY_MODEL_d32a03b6d1b64ccabf371805bef7086c",
            "_dom_classes": [],
            "description": "",
            "_model_name": "FloatProgressModel",
            "bar_style": "success",
            "max": 4542,
            "_view_module": "@jupyter-widgets/controls",
            "_model_module_version": "1.5.0",
            "value": 4542,
            "_view_count": null,
            "_view_module_version": "1.5.0",
            "orientation": "horizontal",
            "min": 0,
            "description_tooltip": null,
            "_model_module": "@jupyter-widgets/controls",
            "layout": "IPY_MODEL_f6bccb1b3a9542c7bdef66530f386195"
          }
        },
        "279bae0495df4c528c09f51ea18454a7": {
          "model_module": "@jupyter-widgets/controls",
          "model_name": "HTMLModel",
          "state": {
            "_view_name": "HTMLView",
            "style": "IPY_MODEL_eae42c4a59dd4bb4a67a4c7de6fded35",
            "_dom_classes": [],
            "description": "",
            "_model_name": "HTMLModel",
            "placeholder": "​",
            "_view_module": "@jupyter-widgets/controls",
            "_model_module_version": "1.5.0",
            "value": " 5120/? [00:02&lt;00:00, 1803.13it/s]",
            "_view_count": null,
            "_view_module_version": "1.5.0",
            "description_tooltip": null,
            "_model_module": "@jupyter-widgets/controls",
            "layout": "IPY_MODEL_251b3e83f55e4848a3c90b56bb122fb2"
          }
        },
        "d32a03b6d1b64ccabf371805bef7086c": {
          "model_module": "@jupyter-widgets/controls",
          "model_name": "ProgressStyleModel",
          "state": {
            "_view_name": "StyleView",
            "_model_name": "ProgressStyleModel",
            "description_width": "initial",
            "_view_module": "@jupyter-widgets/base",
            "_model_module_version": "1.5.0",
            "_view_count": null,
            "_view_module_version": "1.2.0",
            "bar_color": null,
            "_model_module": "@jupyter-widgets/controls"
          }
        },
        "f6bccb1b3a9542c7bdef66530f386195": {
          "model_module": "@jupyter-widgets/base",
          "model_name": "LayoutModel",
          "state": {
            "_view_name": "LayoutView",
            "grid_template_rows": null,
            "right": null,
            "justify_content": null,
            "_view_module": "@jupyter-widgets/base",
            "overflow": null,
            "_model_module_version": "1.2.0",
            "_view_count": null,
            "flex_flow": null,
            "width": null,
            "min_width": null,
            "border": null,
            "align_items": null,
            "bottom": null,
            "_model_module": "@jupyter-widgets/base",
            "top": null,
            "grid_column": null,
            "overflow_y": null,
            "overflow_x": null,
            "grid_auto_flow": null,
            "grid_area": null,
            "grid_template_columns": null,
            "flex": null,
            "_model_name": "LayoutModel",
            "justify_items": null,
            "grid_row": null,
            "max_height": null,
            "align_content": null,
            "visibility": null,
            "align_self": null,
            "height": null,
            "min_height": null,
            "padding": null,
            "grid_auto_rows": null,
            "grid_gap": null,
            "max_width": null,
            "order": null,
            "_view_module_version": "1.2.0",
            "grid_template_areas": null,
            "object_position": null,
            "object_fit": null,
            "grid_auto_columns": null,
            "margin": null,
            "display": null,
            "left": null
          }
        },
        "eae42c4a59dd4bb4a67a4c7de6fded35": {
          "model_module": "@jupyter-widgets/controls",
          "model_name": "DescriptionStyleModel",
          "state": {
            "_view_name": "StyleView",
            "_model_name": "DescriptionStyleModel",
            "description_width": "",
            "_view_module": "@jupyter-widgets/base",
            "_model_module_version": "1.5.0",
            "_view_count": null,
            "_view_module_version": "1.2.0",
            "_model_module": "@jupyter-widgets/controls"
          }
        },
        "251b3e83f55e4848a3c90b56bb122fb2": {
          "model_module": "@jupyter-widgets/base",
          "model_name": "LayoutModel",
          "state": {
            "_view_name": "LayoutView",
            "grid_template_rows": null,
            "right": null,
            "justify_content": null,
            "_view_module": "@jupyter-widgets/base",
            "overflow": null,
            "_model_module_version": "1.2.0",
            "_view_count": null,
            "flex_flow": null,
            "width": null,
            "min_width": null,
            "border": null,
            "align_items": null,
            "bottom": null,
            "_model_module": "@jupyter-widgets/base",
            "top": null,
            "grid_column": null,
            "overflow_y": null,
            "overflow_x": null,
            "grid_auto_flow": null,
            "grid_area": null,
            "grid_template_columns": null,
            "flex": null,
            "_model_name": "LayoutModel",
            "justify_items": null,
            "grid_row": null,
            "max_height": null,
            "align_content": null,
            "visibility": null,
            "align_self": null,
            "height": null,
            "min_height": null,
            "padding": null,
            "grid_auto_rows": null,
            "grid_gap": null,
            "max_width": null,
            "order": null,
            "_view_module_version": "1.2.0",
            "grid_template_areas": null,
            "object_position": null,
            "object_fit": null,
            "grid_auto_columns": null,
            "margin": null,
            "display": null,
            "left": null
          }
        }
      }
    }
  },
  "cells": [
    {
      "cell_type": "markdown",
      "metadata": {
        "id": "view-in-github",
        "colab_type": "text"
      },
      "source": [
        "<a href=\"https://colab.research.google.com/github/martinpius/GANS/blob/main/SIMPLE%20GAN.ipynb\" target=\"_parent\"><img src=\"https://colab.research.google.com/assets/colab-badge.svg\" alt=\"Open In Colab\"/></a>"
      ]
    },
    {
      "cell_type": "code",
      "metadata": {
        "colab": {
          "base_uri": "https://localhost:8080/"
        },
        "id": "b8Z9ypqnfNIO",
        "outputId": "f9811732-53f4-4e70-ce53-f0cf4ba1ba78"
      },
      "source": [
        "from google.colab import drive\n",
        "drive.mount(\"/content/drive\", force_remount = True)\n",
        "try:\n",
        "  COLAB = True\n",
        "  import torch\n",
        "  print(f\">>>> You are on CoLaB with torch version: {torch.__version__}\")\n",
        "except Exception as e:\n",
        "  print(f\">>>> {type(e)}: {e}\\n>>>> please correct {type(e)} and reload\")\n",
        "  COLAB = False\n",
        "if torch.cuda.is_available():\n",
        "  device = torch.device(\"cuda\")\n",
        "else:\n",
        "  device = torch.device('cpu')\n",
        "def time_fmt(t: float = 125.39)->float:\n",
        "  h = int(t / (60 * 60))\n",
        "  m = int(t % (60 * 60) / 60)\n",
        "  s = int(t % 60)\n",
        "  return f\"{h} hrs: {m:>02} min: {s:>05.2f} sec\"\n",
        "print(f\">>>> time formating\\tplease wait........\\n>>>> time elapsed: {time_fmt()}\")\n"
      ],
      "execution_count": 2,
      "outputs": [
        {
          "output_type": "stream",
          "text": [
            "Mounted at /content/drive\n",
            ">>>> You are on CoLaB with torch version: 1.8.1+cu101\n",
            ">>>> time formating\tplease wait........\n",
            ">>>> time elapsed: 0 hrs: 02 min: 05.00 sec\n"
          ],
          "name": "stdout"
        }
      ]
    },
    {
      "cell_type": "code",
      "metadata": {
        "id": "_baMnvJ3iIzd"
      },
      "source": [
        "###########The simple GAN ############## Implementantion from scratch with Pytorch\n"
      ],
      "execution_count": 3,
      "outputs": []
    },
    {
      "cell_type": "code",
      "metadata": {
        "id": "VAgfvWxCjNKG"
      },
      "source": [
        "import torch\n",
        "import numpy as np\n",
        "import torchvision\n",
        "import torch.nn as nn\n",
        "import torch.optim as optim\n",
        "import torchvision.transforms as transforms\n",
        "import torchvision.datasets as datasets\n",
        "from torch.utils.data import DataLoader\n",
        "from torch.utils.tensorboard import SummaryWriter\n",
        "import math, time, random\n",
        "from tqdm import tqdm"
      ],
      "execution_count": 4,
      "outputs": []
    },
    {
      "cell_type": "code",
      "metadata": {
        "id": "hJLLX8E4kPxV"
      },
      "source": [
        "#Setup the random seeds for reproducability.\n",
        "seed = 1234\n",
        "random.seed(seed)\n",
        "np.random.seed(seed)\n",
        "torch.manual_seed(seed)\n",
        "torch.cuda.manual_seed(seed)\n",
        "torch.backends.cudnn.deterministic = True"
      ],
      "execution_count": 5,
      "outputs": []
    },
    {
      "cell_type": "code",
      "metadata": {
        "id": "lDETszKLtRAA"
      },
      "source": [
        "#The Discriminator Network\n",
        "class Discriminator(nn.Module):\n",
        "  def __init__(self, in_features):\n",
        "    super().__init__()\n",
        "    self.discriminator = nn.Sequential(\n",
        "            nn.Linear(in_features, 128),\n",
        "            nn.LeakyReLU(0.01),\n",
        "            nn.Linear(128, 1),\n",
        "            nn.Sigmoid(),)\n",
        "    \n",
        "  def forward(self, input_tensor):\n",
        "    return self.discriminator(input_tensor)"
      ],
      "execution_count": 6,
      "outputs": []
    },
    {
      "cell_type": "code",
      "metadata": {
        "id": "80isfgBuuJMR"
      },
      "source": [
        "class Generator(nn.Module):\n",
        "  def __init__(self, z_dim, img_dim):\n",
        "    super(Generator, self).__init__()\n",
        "    self.generator = nn.Sequential(\n",
        "        nn.Linear(z_dim, 256),\n",
        "        nn.LeakyReLU(0.01),\n",
        "        nn.Linear(256, img_dim),\n",
        "        nn.Tanh())\n",
        "  \n",
        "  def forward(self, input_tensor):\n",
        "    return self.generator(input_tensor)"
      ],
      "execution_count": 7,
      "outputs": []
    },
    {
      "cell_type": "code",
      "metadata": {
        "id": "eqJLD1avvCka"
      },
      "source": [
        "#Testing these networks if they deliver outputs of derised shapes:\n",
        "def __test__():\n",
        "  input_dim = 784\n",
        "  batch_size = 64\n",
        "  z_dim = 100\n",
        "  noise = torch.randn(batch_size, z_dim)\n",
        "  rand_data = torch.randn(batch_size, input_dim)\n",
        "  disc = Discriminator(input_dim)\n",
        "  gen = Generator(z_dim, input_dim)\n",
        "  gen_out = gen(noise)\n",
        "  disc_out = disc(rand_data)\n",
        "  return f\" gen_out_shape: {gen_out.shape} disc_out_shape: {disc_out.shape}\" "
      ],
      "execution_count": 8,
      "outputs": []
    },
    {
      "cell_type": "code",
      "metadata": {
        "colab": {
          "base_uri": "https://localhost:8080/",
          "height": 35
        },
        "id": "mkLTi-J2wdcE",
        "outputId": "17bf65c4-69b8-4404-cb06-1317c760053b"
      },
      "source": [
        "__test__()"
      ],
      "execution_count": 9,
      "outputs": [
        {
          "output_type": "execute_result",
          "data": {
            "application/vnd.google.colaboratory.intrinsic+json": {
              "type": "string"
            },
            "text/plain": [
              "' gen_out_shape: torch.Size([64, 784]) disc_out_shape: torch.Size([64, 1])'"
            ]
          },
          "metadata": {
            "tags": []
          },
          "execution_count": 9
        }
      ]
    },
    {
      "cell_type": "code",
      "metadata": {
        "colab": {
          "base_uri": "https://localhost:8080/",
          "height": 573,
          "referenced_widgets": [
            "ec08a9ca594b407f8845c9bfb97fde21",
            "26b757b0417f461da97fe4aceb9f250c",
            "96383b12b9524fcf9ff2d7c4b640287e",
            "9fe1802556714491a564c1cb8ed4d2b9",
            "509350e8c6a34cd38ed816ae5d5f1311",
            "99779220d92845589c224c883a3914ba",
            "06bddac2c27e45729831973bf082f469",
            "8a944545522c4d7292daa6efdaad335d",
            "ff4989cef8c34c6dbd2632ae812ee28e",
            "d5c1ab7941a7435eacac5fa2378c6a81",
            "51bf809c8a8c4da7a9d10d6148d9b342",
            "e374bbe3b1704360b45dd9a9860a84c6",
            "a441446cf0aa4c07b9506c27814b6be0",
            "555fd64ca2f64f8dac99aae971988da1",
            "b5a9b30cf962427fbdee44be0822c994",
            "0a8a1775b80946249bbd1ecdf0cdb85c",
            "7c36bdfdce4c4da6b260445ba49f965a",
            "a123674494674cd78c6cd86c0b930e19",
            "8ef6ff6ee70548989f3f05ffc572a255",
            "f7f14e74a4f940acb6afaed80270af95",
            "dcaa66bd51734d03a985e5ff93f6f249",
            "14cc4e7ec1df4e92ba399a286134ec8b",
            "ec33acc8e11d450280ed042421829be7",
            "26dcf52a814740b6a647a562cc0bca57",
            "18081c0512b94431a243269ad8829a0b",
            "486c3c780cd8462aa9cf14c61b3442c7",
            "596859a176a04c7e882be0e755ca72a2",
            "279bae0495df4c528c09f51ea18454a7",
            "d32a03b6d1b64ccabf371805bef7086c",
            "f6bccb1b3a9542c7bdef66530f386195",
            "eae42c4a59dd4bb4a67a4c7de6fded35",
            "251b3e83f55e4848a3c90b56bb122fb2"
          ]
        },
        "id": "fUPjz7fFwfgR",
        "outputId": "50bdda3e-d564-48fd-f4a5-17b78aa3a22a"
      },
      "source": [
        "#Get and preprocess from torchvision:\n",
        "batch_size = 32\n",
        "transforms = transforms.Compose(\n",
        "    [transforms.ToTensor(), transforms.Normalize((0.5,), (0.5,)),])\n",
        "\n",
        "dfm = datasets.MNIST(root=\"dataset/\", transform=transforms, download=True)\n",
        "loader = DataLoader(dfm, batch_size=batch_size, shuffle=True)"
      ],
      "execution_count": 10,
      "outputs": [
        {
          "output_type": "stream",
          "text": [
            "Downloading http://yann.lecun.com/exdb/mnist/train-images-idx3-ubyte.gz\n",
            "Downloading http://yann.lecun.com/exdb/mnist/train-images-idx3-ubyte.gz to dataset/MNIST/raw/train-images-idx3-ubyte.gz\n"
          ],
          "name": "stdout"
        },
        {
          "output_type": "display_data",
          "data": {
            "application/vnd.jupyter.widget-view+json": {
              "model_id": "ec08a9ca594b407f8845c9bfb97fde21",
              "version_minor": 0,
              "version_major": 2
            },
            "text/plain": [
              "HBox(children=(FloatProgress(value=0.0, max=9912422.0), HTML(value='')))"
            ]
          },
          "metadata": {
            "tags": []
          }
        },
        {
          "output_type": "stream",
          "text": [
            "\n",
            "Extracting dataset/MNIST/raw/train-images-idx3-ubyte.gz to dataset/MNIST/raw\n",
            "\n",
            "Downloading http://yann.lecun.com/exdb/mnist/train-labels-idx1-ubyte.gz\n",
            "Downloading http://yann.lecun.com/exdb/mnist/train-labels-idx1-ubyte.gz to dataset/MNIST/raw/train-labels-idx1-ubyte.gz\n"
          ],
          "name": "stdout"
        },
        {
          "output_type": "display_data",
          "data": {
            "application/vnd.jupyter.widget-view+json": {
              "model_id": "ff4989cef8c34c6dbd2632ae812ee28e",
              "version_minor": 0,
              "version_major": 2
            },
            "text/plain": [
              "HBox(children=(FloatProgress(value=0.0, max=28881.0), HTML(value='')))"
            ]
          },
          "metadata": {
            "tags": []
          }
        },
        {
          "output_type": "stream",
          "text": [
            "\n",
            "Extracting dataset/MNIST/raw/train-labels-idx1-ubyte.gz to dataset/MNIST/raw\n",
            "\n",
            "Downloading http://yann.lecun.com/exdb/mnist/t10k-images-idx3-ubyte.gz\n",
            "Downloading http://yann.lecun.com/exdb/mnist/t10k-images-idx3-ubyte.gz to dataset/MNIST/raw/t10k-images-idx3-ubyte.gz\n"
          ],
          "name": "stdout"
        },
        {
          "output_type": "display_data",
          "data": {
            "application/vnd.jupyter.widget-view+json": {
              "model_id": "7c36bdfdce4c4da6b260445ba49f965a",
              "version_minor": 0,
              "version_major": 2
            },
            "text/plain": [
              "HBox(children=(FloatProgress(value=0.0, max=1648877.0), HTML(value='')))"
            ]
          },
          "metadata": {
            "tags": []
          }
        },
        {
          "output_type": "stream",
          "text": [
            "\n",
            "Extracting dataset/MNIST/raw/t10k-images-idx3-ubyte.gz to dataset/MNIST/raw\n",
            "\n",
            "Downloading http://yann.lecun.com/exdb/mnist/t10k-labels-idx1-ubyte.gz\n",
            "Downloading http://yann.lecun.com/exdb/mnist/t10k-labels-idx1-ubyte.gz to dataset/MNIST/raw/t10k-labels-idx1-ubyte.gz\n"
          ],
          "name": "stdout"
        },
        {
          "output_type": "display_data",
          "data": {
            "application/vnd.jupyter.widget-view+json": {
              "model_id": "18081c0512b94431a243269ad8829a0b",
              "version_minor": 0,
              "version_major": 2
            },
            "text/plain": [
              "HBox(children=(FloatProgress(value=0.0, max=4542.0), HTML(value='')))"
            ]
          },
          "metadata": {
            "tags": []
          }
        },
        {
          "output_type": "stream",
          "text": [
            "\n",
            "Extracting dataset/MNIST/raw/t10k-labels-idx1-ubyte.gz to dataset/MNIST/raw\n",
            "\n",
            "Processing...\n",
            "Done!\n"
          ],
          "name": "stdout"
        },
        {
          "output_type": "stream",
          "text": [
            "/usr/local/lib/python3.7/dist-packages/torchvision/datasets/mnist.py:502: UserWarning: The given NumPy array is not writeable, and PyTorch does not support non-writeable tensors. This means you can write to the underlying (supposedly non-writeable) NumPy array using the tensor. You may want to copy the array to protect its data or make it writeable before converting it to a tensor. This type of warning will be suppressed for the rest of this program. (Triggered internally at  /pytorch/torch/csrc/utils/tensor_numpy.cpp:143.)\n",
            "  return torch.from_numpy(parsed.astype(m[2], copy=False)).view(*s)\n"
          ],
          "name": "stderr"
        }
      ]
    },
    {
      "cell_type": "code",
      "metadata": {
        "id": "pvglgxfR1p4v"
      },
      "source": [
        "#The training loop:\n",
        "EPOCHS = 50\n",
        "learning_rate = 3e-4\n",
        "z_dim = 64\n",
        "img_dim = 784\n",
        "batch_size = batch_size\n",
        "fixed_noise = torch.randn(batch_size, z_dim).to(device = device)\n",
        "generator = Generator(z_dim, img_dim).to(device = device)\n",
        "discriminator = Discriminator(img_dim).to(device = device)\n",
        "real_writer = SummaryWriter(f\"runs/mnist_images/real\")\n",
        "fake_writer = SummaryWriter(f\"runs/mnist_images/fake\")\n"
      ],
      "execution_count": 11,
      "outputs": []
    },
    {
      "cell_type": "code",
      "metadata": {
        "id": "ZhhTUi675EWM"
      },
      "source": [
        "loss = nn.BCELoss()\n",
        "disc_opt = optim.Adam(params = discriminator.parameters(), lr = learning_rate)\n",
        "gen_opt = optim.Adam(params = generator.parameters(), lr = learning_rate)\n"
      ],
      "execution_count": 12,
      "outputs": []
    },
    {
      "cell_type": "code",
      "metadata": {
        "colab": {
          "base_uri": "https://localhost:8080/"
        },
        "id": "zMQ4-miz3nPT",
        "outputId": "2658fffb-c409-4723-b6d7-66b372441be7"
      },
      "source": [
        "step = 0\n",
        "global_tic = time.time()\n",
        "for epoch in range(EPOCHS):\n",
        "  tic = time.time()\n",
        "  print(f\">>>> training starts for epoch {epoch + 1}\\tplease wait...............\")\n",
        "  for idx, (real, _) in enumerate(tqdm(loader)):\n",
        "    real = real.view(-1, 784).to(device)\n",
        "    batch_size = real.shape[0]\n",
        "    noise = torch.randn(batch_size, z_dim).to(device)\n",
        "    fake = generator(noise)\n",
        "    disc_real = discriminator(real).view(-1)\n",
        "    lossD_real = loss(disc_real, torch.ones_like(disc_real))\n",
        "    disc_fake = discriminator(fake).view(-1)\n",
        "    lossD_fake = loss(disc_fake, torch.zeros_like(disc_fake))\n",
        "    lossD = (lossD_real + lossD_fake) / 2\n",
        "    discriminator.zero_grad()\n",
        "    lossD.backward(retain_graph=True)\n",
        "    disc_opt.step()\n",
        "\n",
        "    #training the generator:\n",
        "    gen_out = discriminator(fake)\n",
        "    gen_loss = loss(gen_out, torch.ones_like(gen_out))\n",
        "    generator.zero_grad()\n",
        "    gen_loss.backward()\n",
        "    gen_opt.step()\n",
        "    toc = time.time()\n",
        "    if idx % 200 == 0:\n",
        "      print(f\"\\n>>>> time elapsed at the end of epoch {epoch + 1} of batch {idx} is {time_fmt(toc - tic)}\")\n",
        "      print(f\">>>> generator loss: {gen_loss:.4f} | generator PPL: {math.exp(gen_loss):7.4f}\")\n",
        "      print(f\">>>> discriminator loss: {lossD:.4f} | discriminator PPL: {math.exp(lossD):7.4f}\")\n",
        "    with torch.no_grad():\n",
        "      fake_images = generator(fixed_noise).reshape(-1, 1, 28, 28)\n",
        "      real_images = real.reshape(-1, 1, 28, 28)\n",
        "      img_grid_real = torchvision.utils.make_grid(real_images, normalize = True)\n",
        "      img_grid_fake = torchvision.utils.make_grid(fake_images, normalize = True)\n",
        "      real_writer.add_image('real_mnist_image', img_grid_real, global_step = step)\n",
        "      fake_writer.add_image('fake_mnist_image', img_grid_fake, global_step = step)\n",
        "      step+=1\n",
        "global_toc = time.time()\n",
        "print(f\"\\n>>>> total time elapsed for trainining this simple GAN is {time_fmt(global_toc - global_tic)}\")\n",
        "\n",
        "\n",
        "\n",
        "\n"
      ],
      "execution_count": null,
      "outputs": [
        {
          "output_type": "stream",
          "text": [
            "\r  0%|          | 0/1875 [00:00<?, ?it/s]"
          ],
          "name": "stderr"
        },
        {
          "output_type": "stream",
          "text": [
            ">>>> training starts for epoch 1\tplease wait...............\n",
            "\n",
            ">>>> time elapsed at the end of epoch 1 of batch 0 is 0 hrs: 00 min: 00.00 sec\n",
            ">>>> generator loss: 0.7300 | generator PPL:  2.0752\n",
            ">>>> discriminator loss: 0.6582 | discriminator PPL:  1.9314\n"
          ],
          "name": "stdout"
        },
        {
          "output_type": "stream",
          "text": [
            " 11%|█         | 205/1875 [00:08<01:05, 25.62it/s]"
          ],
          "name": "stderr"
        },
        {
          "output_type": "stream",
          "text": [
            "\n",
            ">>>> time elapsed at the end of epoch 1 of batch 200 is 0 hrs: 00 min: 08.00 sec\n",
            ">>>> generator loss: 2.3337 | generator PPL: 10.3161\n",
            ">>>> discriminator loss: 0.1143 | discriminator PPL:  1.1211\n"
          ],
          "name": "stdout"
        },
        {
          "output_type": "stream",
          "text": [
            " 21%|██▏       | 403/1875 [00:15<00:55, 26.69it/s]"
          ],
          "name": "stderr"
        },
        {
          "output_type": "stream",
          "text": [
            "\n",
            ">>>> time elapsed at the end of epoch 1 of batch 400 is 0 hrs: 00 min: 15.00 sec\n",
            ">>>> generator loss: 0.8934 | generator PPL:  2.4434\n",
            ">>>> discriminator loss: 0.5492 | discriminator PPL:  1.7319\n"
          ],
          "name": "stdout"
        },
        {
          "output_type": "stream",
          "text": [
            " 32%|███▏      | 604/1875 [00:23<00:47, 26.73it/s]"
          ],
          "name": "stderr"
        },
        {
          "output_type": "stream",
          "text": [
            "\n",
            ">>>> time elapsed at the end of epoch 1 of batch 600 is 0 hrs: 00 min: 22.00 sec\n",
            ">>>> generator loss: 1.4919 | generator PPL:  4.4454\n",
            ">>>> discriminator loss: 0.2605 | discriminator PPL:  1.2975\n"
          ],
          "name": "stdout"
        },
        {
          "output_type": "stream",
          "text": [
            " 43%|████▎     | 805/1875 [00:30<00:39, 26.99it/s]"
          ],
          "name": "stderr"
        },
        {
          "output_type": "stream",
          "text": [
            "\n",
            ">>>> time elapsed at the end of epoch 1 of batch 800 is 0 hrs: 00 min: 30.00 sec\n",
            ">>>> generator loss: 0.7544 | generator PPL:  2.1263\n",
            ">>>> discriminator loss: 0.5900 | discriminator PPL:  1.8039\n"
          ],
          "name": "stdout"
        },
        {
          "output_type": "stream",
          "text": [
            " 54%|█████▎    | 1006/1875 [00:37<00:31, 27.59it/s]"
          ],
          "name": "stderr"
        },
        {
          "output_type": "stream",
          "text": [
            "\n",
            ">>>> time elapsed at the end of epoch 1 of batch 1000 is 0 hrs: 00 min: 37.00 sec\n",
            ">>>> generator loss: 1.1854 | generator PPL:  3.2720\n",
            ">>>> discriminator loss: 0.4474 | discriminator PPL:  1.5642\n"
          ],
          "name": "stdout"
        },
        {
          "output_type": "stream",
          "text": [
            " 64%|██████▍   | 1204/1875 [00:44<00:24, 27.44it/s]"
          ],
          "name": "stderr"
        },
        {
          "output_type": "stream",
          "text": [
            "\n",
            ">>>> time elapsed at the end of epoch 1 of batch 1200 is 0 hrs: 00 min: 44.00 sec\n",
            ">>>> generator loss: 1.2025 | generator PPL:  3.3284\n",
            ">>>> discriminator loss: 0.3668 | discriminator PPL:  1.4432\n"
          ],
          "name": "stdout"
        },
        {
          "output_type": "stream",
          "text": [
            " 75%|███████▍  | 1405/1875 [00:52<00:16, 28.83it/s]"
          ],
          "name": "stderr"
        },
        {
          "output_type": "stream",
          "text": [
            "\n",
            ">>>> time elapsed at the end of epoch 1 of batch 1400 is 0 hrs: 00 min: 52.00 sec\n",
            ">>>> generator loss: 0.5071 | generator PPL:  1.6605\n",
            ">>>> discriminator loss: 0.9268 | discriminator PPL:  2.5265\n"
          ],
          "name": "stdout"
        },
        {
          "output_type": "stream",
          "text": [
            " 86%|████████▌ | 1606/1875 [00:59<00:09, 28.04it/s]"
          ],
          "name": "stderr"
        },
        {
          "output_type": "stream",
          "text": [
            "\n",
            ">>>> time elapsed at the end of epoch 1 of batch 1600 is 0 hrs: 00 min: 59.00 sec\n",
            ">>>> generator loss: 1.3706 | generator PPL:  3.9377\n",
            ">>>> discriminator loss: 0.3306 | discriminator PPL:  1.3918\n"
          ],
          "name": "stdout"
        },
        {
          "output_type": "stream",
          "text": [
            " 96%|█████████▌| 1804/1875 [01:06<00:02, 27.66it/s]"
          ],
          "name": "stderr"
        },
        {
          "output_type": "stream",
          "text": [
            "\n",
            ">>>> time elapsed at the end of epoch 1 of batch 1800 is 0 hrs: 01 min: 06.00 sec\n",
            ">>>> generator loss: 1.9323 | generator PPL:  6.9056\n",
            ">>>> discriminator loss: 0.2251 | discriminator PPL:  1.2524\n"
          ],
          "name": "stdout"
        },
        {
          "output_type": "stream",
          "text": [
            "100%|██████████| 1875/1875 [01:09<00:00, 27.12it/s]\n",
            "  0%|          | 3/1875 [00:00<01:04, 28.89it/s]"
          ],
          "name": "stderr"
        },
        {
          "output_type": "stream",
          "text": [
            ">>>> training starts for epoch 2\tplease wait...............\n",
            "\n",
            ">>>> time elapsed at the end of epoch 2 of batch 0 is 0 hrs: 00 min: 00.00 sec\n",
            ">>>> generator loss: 0.5233 | generator PPL:  1.6875\n",
            ">>>> discriminator loss: 0.9639 | discriminator PPL:  2.6220\n"
          ],
          "name": "stdout"
        },
        {
          "output_type": "stream",
          "text": [
            " 11%|█         | 204/1875 [00:07<00:59, 28.13it/s]"
          ],
          "name": "stderr"
        },
        {
          "output_type": "stream",
          "text": [
            "\n",
            ">>>> time elapsed at the end of epoch 2 of batch 200 is 0 hrs: 00 min: 07.00 sec\n",
            ">>>> generator loss: 0.9382 | generator PPL:  2.5555\n",
            ">>>> discriminator loss: 0.6049 | discriminator PPL:  1.8311\n"
          ],
          "name": "stdout"
        },
        {
          "output_type": "stream",
          "text": [
            " 22%|██▏       | 405/1875 [00:14<00:52, 27.77it/s]"
          ],
          "name": "stderr"
        },
        {
          "output_type": "stream",
          "text": [
            "\n",
            ">>>> time elapsed at the end of epoch 2 of batch 400 is 0 hrs: 00 min: 14.00 sec\n",
            ">>>> generator loss: 1.2739 | generator PPL:  3.5749\n",
            ">>>> discriminator loss: 0.4596 | discriminator PPL:  1.5834\n"
          ],
          "name": "stdout"
        },
        {
          "output_type": "stream",
          "text": [
            " 32%|███▏      | 606/1875 [00:21<00:43, 28.94it/s]"
          ],
          "name": "stderr"
        },
        {
          "output_type": "stream",
          "text": [
            "\n",
            ">>>> time elapsed at the end of epoch 2 of batch 600 is 0 hrs: 00 min: 21.00 sec\n",
            ">>>> generator loss: 1.3949 | generator PPL:  4.0344\n",
            ">>>> discriminator loss: 0.3139 | discriminator PPL:  1.3687\n"
          ],
          "name": "stdout"
        },
        {
          "output_type": "stream",
          "text": [
            " 43%|████▎     | 804/1875 [00:28<00:37, 28.68it/s]"
          ],
          "name": "stderr"
        },
        {
          "output_type": "stream",
          "text": [
            "\n",
            ">>>> time elapsed at the end of epoch 2 of batch 800 is 0 hrs: 00 min: 28.00 sec\n",
            ">>>> generator loss: 0.4048 | generator PPL:  1.4991\n",
            ">>>> discriminator loss: 1.1578 | discriminator PPL:  3.1829\n"
          ],
          "name": "stdout"
        },
        {
          "output_type": "stream",
          "text": [
            " 54%|█████▎    | 1005/1875 [00:35<00:30, 28.34it/s]"
          ],
          "name": "stderr"
        },
        {
          "output_type": "stream",
          "text": [
            "\n",
            ">>>> time elapsed at the end of epoch 2 of batch 1000 is 0 hrs: 00 min: 35.00 sec\n",
            ">>>> generator loss: 1.0382 | generator PPL:  2.8240\n",
            ">>>> discriminator loss: 0.4936 | discriminator PPL:  1.6382\n"
          ],
          "name": "stdout"
        },
        {
          "output_type": "stream",
          "text": [
            " 64%|██████▍   | 1204/1875 [00:42<00:23, 28.39it/s]"
          ],
          "name": "stderr"
        },
        {
          "output_type": "stream",
          "text": [
            "\n",
            ">>>> time elapsed at the end of epoch 2 of batch 1200 is 0 hrs: 00 min: 42.00 sec\n",
            ">>>> generator loss: 1.0220 | generator PPL:  2.7788\n",
            ">>>> discriminator loss: 0.5432 | discriminator PPL:  1.7215\n"
          ],
          "name": "stdout"
        },
        {
          "output_type": "stream",
          "text": [
            " 75%|███████▍  | 1405/1875 [00:49<00:16, 28.13it/s]"
          ],
          "name": "stderr"
        },
        {
          "output_type": "stream",
          "text": [
            "\n",
            ">>>> time elapsed at the end of epoch 2 of batch 1400 is 0 hrs: 00 min: 49.00 sec\n",
            ">>>> generator loss: 1.6461 | generator PPL:  5.1865\n",
            ">>>> discriminator loss: 0.2990 | discriminator PPL:  1.3485\n"
          ],
          "name": "stdout"
        },
        {
          "output_type": "stream",
          "text": [
            " 86%|████████▌ | 1605/1875 [00:56<00:09, 28.89it/s]"
          ],
          "name": "stderr"
        },
        {
          "output_type": "stream",
          "text": [
            "\n",
            ">>>> time elapsed at the end of epoch 2 of batch 1600 is 0 hrs: 00 min: 56.00 sec\n",
            ">>>> generator loss: 0.5613 | generator PPL:  1.7530\n",
            ">>>> discriminator loss: 0.9875 | discriminator PPL:  2.6844\n"
          ],
          "name": "stdout"
        },
        {
          "output_type": "stream",
          "text": [
            " 96%|█████████▋| 1805/1875 [01:03<00:02, 28.22it/s]"
          ],
          "name": "stderr"
        },
        {
          "output_type": "stream",
          "text": [
            "\n",
            ">>>> time elapsed at the end of epoch 2 of batch 1800 is 0 hrs: 01 min: 03.00 sec\n",
            ">>>> generator loss: 0.6006 | generator PPL:  1.8232\n",
            ">>>> discriminator loss: 0.7542 | discriminator PPL:  2.1259\n"
          ],
          "name": "stdout"
        },
        {
          "output_type": "stream",
          "text": [
            "100%|██████████| 1875/1875 [01:06<00:00, 28.35it/s]\n",
            "  0%|          | 4/1875 [00:00<00:59, 31.26it/s]"
          ],
          "name": "stderr"
        },
        {
          "output_type": "stream",
          "text": [
            ">>>> training starts for epoch 3\tplease wait...............\n",
            "\n",
            ">>>> time elapsed at the end of epoch 3 of batch 0 is 0 hrs: 00 min: 00.00 sec\n",
            ">>>> generator loss: 0.9405 | generator PPL:  2.5612\n",
            ">>>> discriminator loss: 0.5550 | discriminator PPL:  1.7419\n"
          ],
          "name": "stdout"
        },
        {
          "output_type": "stream",
          "text": [
            " 11%|█         | 206/1875 [00:07<00:58, 28.65it/s]"
          ],
          "name": "stderr"
        },
        {
          "output_type": "stream",
          "text": [
            "\n",
            ">>>> time elapsed at the end of epoch 3 of batch 200 is 0 hrs: 00 min: 07.00 sec\n",
            ">>>> generator loss: 1.1934 | generator PPL:  3.2982\n",
            ">>>> discriminator loss: 0.5090 | discriminator PPL:  1.6637\n"
          ],
          "name": "stdout"
        },
        {
          "output_type": "stream",
          "text": [
            " 22%|██▏       | 404/1875 [00:14<00:50, 28.93it/s]"
          ],
          "name": "stderr"
        },
        {
          "output_type": "stream",
          "text": [
            "\n",
            ">>>> time elapsed at the end of epoch 3 of batch 400 is 0 hrs: 00 min: 14.00 sec\n",
            ">>>> generator loss: 1.1119 | generator PPL:  3.0401\n",
            ">>>> discriminator loss: 0.5085 | discriminator PPL:  1.6627\n"
          ],
          "name": "stdout"
        },
        {
          "output_type": "stream",
          "text": [
            " 32%|███▏      | 606/1875 [00:21<00:43, 29.22it/s]"
          ],
          "name": "stderr"
        },
        {
          "output_type": "stream",
          "text": [
            "\n",
            ">>>> time elapsed at the end of epoch 3 of batch 600 is 0 hrs: 00 min: 21.00 sec\n",
            ">>>> generator loss: 1.3468 | generator PPL:  3.8452\n",
            ">>>> discriminator loss: 0.3662 | discriminator PPL:  1.4423\n"
          ],
          "name": "stdout"
        },
        {
          "output_type": "stream",
          "text": [
            " 43%|████▎     | 805/1875 [00:28<00:36, 29.12it/s]"
          ],
          "name": "stderr"
        },
        {
          "output_type": "stream",
          "text": [
            "\n",
            ">>>> time elapsed at the end of epoch 3 of batch 800 is 0 hrs: 00 min: 27.00 sec\n",
            ">>>> generator loss: 0.9333 | generator PPL:  2.5428\n",
            ">>>> discriminator loss: 0.5180 | discriminator PPL:  1.6787\n"
          ],
          "name": "stdout"
        },
        {
          "output_type": "stream",
          "text": [
            " 53%|█████▎    | 1003/1875 [00:34<00:29, 29.67it/s]"
          ],
          "name": "stderr"
        },
        {
          "output_type": "stream",
          "text": [
            "\n",
            ">>>> time elapsed at the end of epoch 3 of batch 1000 is 0 hrs: 00 min: 34.00 sec\n",
            ">>>> generator loss: 0.9352 | generator PPL:  2.5477\n",
            ">>>> discriminator loss: 0.5936 | discriminator PPL:  1.8105\n"
          ],
          "name": "stdout"
        },
        {
          "output_type": "stream",
          "text": [
            " 64%|██████▍   | 1203/1875 [00:41<00:22, 29.90it/s]"
          ],
          "name": "stderr"
        },
        {
          "output_type": "stream",
          "text": [
            "\n",
            ">>>> time elapsed at the end of epoch 3 of batch 1200 is 0 hrs: 00 min: 41.00 sec\n",
            ">>>> generator loss: 0.9487 | generator PPL:  2.5822\n",
            ">>>> discriminator loss: 0.5632 | discriminator PPL:  1.7564\n"
          ],
          "name": "stdout"
        },
        {
          "output_type": "stream",
          "text": [
            " 75%|███████▍  | 1404/1875 [00:48<00:16, 29.14it/s]"
          ],
          "name": "stderr"
        },
        {
          "output_type": "stream",
          "text": [
            "\n",
            ">>>> time elapsed at the end of epoch 3 of batch 1400 is 0 hrs: 00 min: 48.00 sec\n",
            ">>>> generator loss: 0.8171 | generator PPL:  2.2640\n",
            ">>>> discriminator loss: 0.6339 | discriminator PPL:  1.8849\n"
          ],
          "name": "stdout"
        },
        {
          "output_type": "stream",
          "text": [
            " 86%|████████▌ | 1606/1875 [00:55<00:09, 29.17it/s]"
          ],
          "name": "stderr"
        },
        {
          "output_type": "stream",
          "text": [
            "\n",
            ">>>> time elapsed at the end of epoch 3 of batch 1600 is 0 hrs: 00 min: 54.00 sec\n",
            ">>>> generator loss: 0.8797 | generator PPL:  2.4101\n",
            ">>>> discriminator loss: 0.6604 | discriminator PPL:  1.9355\n"
          ],
          "name": "stdout"
        },
        {
          "output_type": "stream",
          "text": [
            " 96%|█████████▌| 1804/1875 [01:01<00:02, 30.63it/s]"
          ],
          "name": "stderr"
        },
        {
          "output_type": "stream",
          "text": [
            "\n",
            ">>>> time elapsed at the end of epoch 3 of batch 1800 is 0 hrs: 01 min: 01.00 sec\n",
            ">>>> generator loss: 0.8465 | generator PPL:  2.3314\n",
            ">>>> discriminator loss: 0.5898 | discriminator PPL:  1.8037\n"
          ],
          "name": "stdout"
        },
        {
          "output_type": "stream",
          "text": [
            "100%|██████████| 1875/1875 [01:04<00:00, 29.22it/s]\n",
            "  0%|          | 4/1875 [00:00<00:58, 32.22it/s]"
          ],
          "name": "stderr"
        },
        {
          "output_type": "stream",
          "text": [
            ">>>> training starts for epoch 4\tplease wait...............\n",
            "\n",
            ">>>> time elapsed at the end of epoch 4 of batch 0 is 0 hrs: 00 min: 00.00 sec\n",
            ">>>> generator loss: 0.9898 | generator PPL:  2.6908\n",
            ">>>> discriminator loss: 0.6181 | discriminator PPL:  1.8554\n"
          ],
          "name": "stdout"
        },
        {
          "output_type": "stream",
          "text": [
            " 11%|█         | 206/1875 [00:07<00:58, 28.70it/s]"
          ],
          "name": "stderr"
        },
        {
          "output_type": "stream",
          "text": [
            "\n",
            ">>>> time elapsed at the end of epoch 4 of batch 200 is 0 hrs: 00 min: 06.00 sec\n",
            ">>>> generator loss: 0.8782 | generator PPL:  2.4066\n",
            ">>>> discriminator loss: 0.6347 | discriminator PPL:  1.8865\n"
          ],
          "name": "stdout"
        },
        {
          "output_type": "stream",
          "text": [
            " 22%|██▏       | 404/1875 [00:13<00:50, 29.19it/s]"
          ],
          "name": "stderr"
        },
        {
          "output_type": "stream",
          "text": [
            "\n",
            ">>>> time elapsed at the end of epoch 4 of batch 400 is 0 hrs: 00 min: 13.00 sec\n",
            ">>>> generator loss: 0.7611 | generator PPL:  2.1406\n",
            ">>>> discriminator loss: 0.6978 | discriminator PPL:  2.0093\n"
          ],
          "name": "stdout"
        },
        {
          "output_type": "stream",
          "text": [
            " 32%|███▏      | 605/1875 [00:20<00:43, 29.27it/s]"
          ],
          "name": "stderr"
        },
        {
          "output_type": "stream",
          "text": [
            "\n",
            ">>>> time elapsed at the end of epoch 4 of batch 600 is 0 hrs: 00 min: 20.00 sec\n",
            ">>>> generator loss: 1.0288 | generator PPL:  2.7977\n",
            ">>>> discriminator loss: 0.7811 | discriminator PPL:  2.1839\n"
          ],
          "name": "stdout"
        },
        {
          "output_type": "stream",
          "text": [
            " 43%|████▎     | 805/1875 [00:27<00:37, 28.84it/s]"
          ],
          "name": "stderr"
        },
        {
          "output_type": "stream",
          "text": [
            "\n",
            ">>>> time elapsed at the end of epoch 4 of batch 800 is 0 hrs: 00 min: 27.00 sec\n",
            ">>>> generator loss: 1.0485 | generator PPL:  2.8532\n",
            ">>>> discriminator loss: 0.5794 | discriminator PPL:  1.7850\n"
          ],
          "name": "stdout"
        },
        {
          "output_type": "stream",
          "text": [
            " 54%|█████▎    | 1006/1875 [00:34<00:29, 29.71it/s]"
          ],
          "name": "stderr"
        },
        {
          "output_type": "stream",
          "text": [
            "\n",
            ">>>> time elapsed at the end of epoch 4 of batch 1000 is 0 hrs: 00 min: 34.00 sec\n",
            ">>>> generator loss: 0.9390 | generator PPL:  2.5574\n",
            ">>>> discriminator loss: 0.8208 | discriminator PPL:  2.2723\n"
          ],
          "name": "stdout"
        },
        {
          "output_type": "stream",
          "text": [
            " 64%|██████▍   | 1206/1875 [00:41<00:22, 29.77it/s]"
          ],
          "name": "stderr"
        },
        {
          "output_type": "stream",
          "text": [
            "\n",
            ">>>> time elapsed at the end of epoch 4 of batch 1200 is 0 hrs: 00 min: 40.00 sec\n",
            ">>>> generator loss: 1.3143 | generator PPL:  3.7222\n",
            ">>>> discriminator loss: 0.3701 | discriminator PPL:  1.4479\n"
          ],
          "name": "stdout"
        },
        {
          "output_type": "stream",
          "text": [
            " 75%|███████▍  | 1404/1875 [00:47<00:16, 29.16it/s]"
          ],
          "name": "stderr"
        },
        {
          "output_type": "stream",
          "text": [
            "\n",
            ">>>> time elapsed at the end of epoch 4 of batch 1400 is 0 hrs: 00 min: 47.00 sec\n",
            ">>>> generator loss: 0.8612 | generator PPL:  2.3660\n",
            ">>>> discriminator loss: 0.6959 | discriminator PPL:  2.0054\n"
          ],
          "name": "stdout"
        },
        {
          "output_type": "stream",
          "text": [
            " 86%|████████▌ | 1606/1875 [00:54<00:09, 29.66it/s]"
          ],
          "name": "stderr"
        },
        {
          "output_type": "stream",
          "text": [
            "\n",
            ">>>> time elapsed at the end of epoch 4 of batch 1600 is 0 hrs: 00 min: 54.00 sec\n",
            ">>>> generator loss: 1.4012 | generator PPL:  4.0599\n",
            ">>>> discriminator loss: 0.3487 | discriminator PPL:  1.4173\n"
          ],
          "name": "stdout"
        },
        {
          "output_type": "stream",
          "text": [
            " 96%|█████████▋| 1806/1875 [01:01<00:02, 29.87it/s]"
          ],
          "name": "stderr"
        },
        {
          "output_type": "stream",
          "text": [
            "\n",
            ">>>> time elapsed at the end of epoch 4 of batch 1800 is 0 hrs: 01 min: 00.00 sec\n",
            ">>>> generator loss: 1.2878 | generator PPL:  3.6247\n",
            ">>>> discriminator loss: 0.3839 | discriminator PPL:  1.4680\n"
          ],
          "name": "stdout"
        },
        {
          "output_type": "stream",
          "text": [
            "100%|██████████| 1875/1875 [01:03<00:00, 29.59it/s]\n",
            "  0%|          | 4/1875 [00:00<00:58, 31.78it/s]"
          ],
          "name": "stderr"
        },
        {
          "output_type": "stream",
          "text": [
            ">>>> training starts for epoch 5\tplease wait...............\n",
            "\n",
            ">>>> time elapsed at the end of epoch 5 of batch 0 is 0 hrs: 00 min: 00.00 sec\n",
            ">>>> generator loss: 1.3410 | generator PPL:  3.8229\n",
            ">>>> discriminator loss: 0.4512 | discriminator PPL:  1.5703\n"
          ],
          "name": "stdout"
        },
        {
          "output_type": "stream",
          "text": [
            " 11%|█         | 205/1875 [00:06<00:53, 31.14it/s]"
          ],
          "name": "stderr"
        },
        {
          "output_type": "stream",
          "text": [
            "\n",
            ">>>> time elapsed at the end of epoch 5 of batch 200 is 0 hrs: 00 min: 06.00 sec\n",
            ">>>> generator loss: 1.0838 | generator PPL:  2.9560\n",
            ">>>> discriminator loss: 0.5780 | discriminator PPL:  1.7825\n"
          ],
          "name": "stdout"
        },
        {
          "output_type": "stream",
          "text": [
            " 21%|██▏       | 403/1875 [00:13<00:47, 31.21it/s]"
          ],
          "name": "stderr"
        },
        {
          "output_type": "stream",
          "text": [
            "\n",
            ">>>> time elapsed at the end of epoch 5 of batch 400 is 0 hrs: 00 min: 12.00 sec\n",
            ">>>> generator loss: 1.3746 | generator PPL:  3.9533\n",
            ">>>> discriminator loss: 0.5308 | discriminator PPL:  1.7003\n"
          ],
          "name": "stdout"
        },
        {
          "output_type": "stream",
          "text": [
            " 32%|███▏      | 607/1875 [00:19<00:38, 33.16it/s]"
          ],
          "name": "stderr"
        },
        {
          "output_type": "stream",
          "text": [
            "\n",
            ">>>> time elapsed at the end of epoch 5 of batch 600 is 0 hrs: 00 min: 19.00 sec\n",
            ">>>> generator loss: 1.2346 | generator PPL:  3.4369\n",
            ">>>> discriminator loss: 0.6782 | discriminator PPL:  1.9704\n"
          ],
          "name": "stdout"
        },
        {
          "output_type": "stream",
          "text": [
            " 43%|████▎     | 803/1875 [00:25<00:33, 32.39it/s]"
          ],
          "name": "stderr"
        },
        {
          "output_type": "stream",
          "text": [
            "\n",
            ">>>> time elapsed at the end of epoch 5 of batch 800 is 0 hrs: 00 min: 25.00 sec\n",
            ">>>> generator loss: 1.1524 | generator PPL:  3.1659\n",
            ">>>> discriminator loss: 0.6903 | discriminator PPL:  1.9943\n"
          ],
          "name": "stdout"
        },
        {
          "output_type": "stream",
          "text": [
            " 53%|█████▎    | 1003/1875 [00:31<00:27, 31.65it/s]"
          ],
          "name": "stderr"
        },
        {
          "output_type": "stream",
          "text": [
            "\n",
            ">>>> time elapsed at the end of epoch 5 of batch 1000 is 0 hrs: 00 min: 31.00 sec\n",
            ">>>> generator loss: 1.0136 | generator PPL:  2.7556\n",
            ">>>> discriminator loss: 0.5934 | discriminator PPL:  1.8101\n"
          ],
          "name": "stdout"
        },
        {
          "output_type": "stream",
          "text": [
            " 64%|██████▍   | 1203/1875 [00:38<00:22, 30.52it/s]"
          ],
          "name": "stderr"
        },
        {
          "output_type": "stream",
          "text": [
            "\n",
            ">>>> time elapsed at the end of epoch 5 of batch 1200 is 0 hrs: 00 min: 38.00 sec\n",
            ">>>> generator loss: 0.9757 | generator PPL:  2.6529\n",
            ">>>> discriminator loss: 0.8310 | discriminator PPL:  2.2957\n"
          ],
          "name": "stdout"
        },
        {
          "output_type": "stream",
          "text": [
            " 75%|███████▍  | 1403/1875 [00:44<00:14, 32.14it/s]"
          ],
          "name": "stderr"
        },
        {
          "output_type": "stream",
          "text": [
            "\n",
            ">>>> time elapsed at the end of epoch 5 of batch 1400 is 0 hrs: 00 min: 44.00 sec\n",
            ">>>> generator loss: 1.4050 | generator PPL:  4.0755\n",
            ">>>> discriminator loss: 0.3330 | discriminator PPL:  1.3951\n"
          ],
          "name": "stdout"
        },
        {
          "output_type": "stream",
          "text": [
            " 85%|████████▌ | 1603/1875 [00:50<00:08, 31.51it/s]"
          ],
          "name": "stderr"
        },
        {
          "output_type": "stream",
          "text": [
            "\n",
            ">>>> time elapsed at the end of epoch 5 of batch 1600 is 0 hrs: 00 min: 50.00 sec\n",
            ">>>> generator loss: 1.3331 | generator PPL:  3.7928\n",
            ">>>> discriminator loss: 0.4080 | discriminator PPL:  1.5038\n"
          ],
          "name": "stdout"
        },
        {
          "output_type": "stream",
          "text": [
            " 96%|█████████▌| 1803/1875 [00:56<00:02, 32.02it/s]"
          ],
          "name": "stderr"
        },
        {
          "output_type": "stream",
          "text": [
            "\n",
            ">>>> time elapsed at the end of epoch 5 of batch 1800 is 0 hrs: 00 min: 56.00 sec\n",
            ">>>> generator loss: 1.0805 | generator PPL:  2.9462\n",
            ">>>> discriminator loss: 0.4341 | discriminator PPL:  1.5435\n"
          ],
          "name": "stdout"
        },
        {
          "output_type": "stream",
          "text": [
            "100%|██████████| 1875/1875 [00:59<00:00, 31.66it/s]\n",
            "  0%|          | 4/1875 [00:00<00:59, 31.53it/s]"
          ],
          "name": "stderr"
        },
        {
          "output_type": "stream",
          "text": [
            ">>>> training starts for epoch 6\tplease wait...............\n",
            "\n",
            ">>>> time elapsed at the end of epoch 6 of batch 0 is 0 hrs: 00 min: 00.00 sec\n",
            ">>>> generator loss: 0.9437 | generator PPL:  2.5696\n",
            ">>>> discriminator loss: 0.5312 | discriminator PPL:  1.7010\n"
          ],
          "name": "stdout"
        },
        {
          "output_type": "stream",
          "text": [
            " 11%|█         | 207/1875 [00:06<00:50, 33.03it/s]"
          ],
          "name": "stderr"
        },
        {
          "output_type": "stream",
          "text": [
            "\n",
            ">>>> time elapsed at the end of epoch 6 of batch 200 is 0 hrs: 00 min: 06.00 sec\n",
            ">>>> generator loss: 0.9009 | generator PPL:  2.4619\n",
            ">>>> discriminator loss: 0.6502 | discriminator PPL:  1.9159\n"
          ],
          "name": "stdout"
        },
        {
          "output_type": "stream",
          "text": [
            " 22%|██▏       | 407/1875 [00:12<00:45, 32.53it/s]"
          ],
          "name": "stderr"
        },
        {
          "output_type": "stream",
          "text": [
            "\n",
            ">>>> time elapsed at the end of epoch 6 of batch 400 is 0 hrs: 00 min: 12.00 sec\n",
            ">>>> generator loss: 1.0202 | generator PPL:  2.7738\n",
            ">>>> discriminator loss: 0.4858 | discriminator PPL:  1.6255\n"
          ],
          "name": "stdout"
        },
        {
          "output_type": "stream",
          "text": [
            " 32%|███▏      | 603/1875 [00:18<00:40, 31.58it/s]"
          ],
          "name": "stderr"
        },
        {
          "output_type": "stream",
          "text": [
            "\n",
            ">>>> time elapsed at the end of epoch 6 of batch 600 is 0 hrs: 00 min: 18.00 sec\n",
            ">>>> generator loss: 1.1364 | generator PPL:  3.1155\n",
            ">>>> discriminator loss: 0.6337 | discriminator PPL:  1.8847\n"
          ],
          "name": "stdout"
        },
        {
          "output_type": "stream",
          "text": [
            " 43%|████▎     | 803/1875 [00:25<00:35, 30.27it/s]"
          ],
          "name": "stderr"
        },
        {
          "output_type": "stream",
          "text": [
            "\n",
            ">>>> time elapsed at the end of epoch 6 of batch 800 is 0 hrs: 00 min: 24.00 sec\n",
            ">>>> generator loss: 0.8414 | generator PPL:  2.3197\n",
            ">>>> discriminator loss: 0.6789 | discriminator PPL:  1.9717\n"
          ],
          "name": "stdout"
        },
        {
          "output_type": "stream",
          "text": [
            " 54%|█████▎    | 1007/1875 [00:31<00:25, 33.63it/s]"
          ],
          "name": "stderr"
        },
        {
          "output_type": "stream",
          "text": [
            "\n",
            ">>>> time elapsed at the end of epoch 6 of batch 1000 is 0 hrs: 00 min: 31.00 sec\n",
            ">>>> generator loss: 0.9749 | generator PPL:  2.6510\n",
            ">>>> discriminator loss: 0.6150 | discriminator PPL:  1.8497\n"
          ],
          "name": "stdout"
        },
        {
          "output_type": "stream",
          "text": [
            " 64%|██████▍   | 1203/1875 [00:37<00:21, 31.61it/s]"
          ],
          "name": "stderr"
        },
        {
          "output_type": "stream",
          "text": [
            "\n",
            ">>>> time elapsed at the end of epoch 6 of batch 1200 is 0 hrs: 00 min: 37.00 sec\n",
            ">>>> generator loss: 0.6397 | generator PPL:  1.8959\n",
            ">>>> discriminator loss: 1.0679 | discriminator PPL:  2.9094\n"
          ],
          "name": "stdout"
        },
        {
          "output_type": "stream",
          "text": [
            " 75%|███████▌  | 1407/1875 [00:43<00:14, 33.27it/s]"
          ],
          "name": "stderr"
        },
        {
          "output_type": "stream",
          "text": [
            "\n",
            ">>>> time elapsed at the end of epoch 6 of batch 1400 is 0 hrs: 00 min: 43.00 sec\n",
            ">>>> generator loss: 0.6836 | generator PPL:  1.9810\n",
            ">>>> discriminator loss: 0.8811 | discriminator PPL:  2.4135\n"
          ],
          "name": "stdout"
        },
        {
          "output_type": "stream",
          "text": [
            " 85%|████████▌ | 1603/1875 [00:49<00:08, 33.23it/s]"
          ],
          "name": "stderr"
        },
        {
          "output_type": "stream",
          "text": [
            "\n",
            ">>>> time elapsed at the end of epoch 6 of batch 1600 is 0 hrs: 00 min: 49.00 sec\n",
            ">>>> generator loss: 0.9672 | generator PPL:  2.6304\n",
            ">>>> discriminator loss: 0.4463 | discriminator PPL:  1.5625\n"
          ],
          "name": "stdout"
        },
        {
          "output_type": "stream",
          "text": [
            " 96%|█████████▌| 1803/1875 [00:55<00:02, 31.67it/s]"
          ],
          "name": "stderr"
        },
        {
          "output_type": "stream",
          "text": [
            "\n",
            ">>>> time elapsed at the end of epoch 6 of batch 1800 is 0 hrs: 00 min: 55.00 sec\n",
            ">>>> generator loss: 1.6194 | generator PPL:  5.0502\n",
            ">>>> discriminator loss: 0.3365 | discriminator PPL:  1.4000\n"
          ],
          "name": "stdout"
        },
        {
          "output_type": "stream",
          "text": [
            "100%|██████████| 1875/1875 [00:57<00:00, 32.44it/s]\n",
            "  0%|          | 4/1875 [00:00<00:55, 33.72it/s]"
          ],
          "name": "stderr"
        },
        {
          "output_type": "stream",
          "text": [
            ">>>> training starts for epoch 7\tplease wait...............\n",
            "\n",
            ">>>> time elapsed at the end of epoch 7 of batch 0 is 0 hrs: 00 min: 00.00 sec\n",
            ">>>> generator loss: 1.1492 | generator PPL:  3.1555\n",
            ">>>> discriminator loss: 0.6439 | discriminator PPL:  1.9040\n"
          ],
          "name": "stdout"
        },
        {
          "output_type": "stream",
          "text": [
            " 11%|█         | 204/1875 [00:06<00:51, 32.15it/s]"
          ],
          "name": "stderr"
        },
        {
          "output_type": "stream",
          "text": [
            "\n",
            ">>>> time elapsed at the end of epoch 7 of batch 200 is 0 hrs: 00 min: 06.00 sec\n",
            ">>>> generator loss: 1.2687 | generator PPL:  3.5564\n",
            ">>>> discriminator loss: 0.4027 | discriminator PPL:  1.4959\n"
          ],
          "name": "stdout"
        },
        {
          "output_type": "stream",
          "text": [
            " 22%|██▏       | 404/1875 [00:12<00:45, 32.22it/s]"
          ],
          "name": "stderr"
        },
        {
          "output_type": "stream",
          "text": [
            "\n",
            ">>>> time elapsed at the end of epoch 7 of batch 400 is 0 hrs: 00 min: 12.00 sec\n",
            ">>>> generator loss: 0.7398 | generator PPL:  2.0954\n",
            ">>>> discriminator loss: 0.7520 | discriminator PPL:  2.1212\n"
          ],
          "name": "stdout"
        },
        {
          "output_type": "stream",
          "text": [
            " 32%|███▏      | 604/1875 [00:18<00:38, 32.63it/s]"
          ],
          "name": "stderr"
        },
        {
          "output_type": "stream",
          "text": [
            "\n",
            ">>>> time elapsed at the end of epoch 7 of batch 600 is 0 hrs: 00 min: 18.00 sec\n",
            ">>>> generator loss: 1.0358 | generator PPL:  2.8175\n",
            ">>>> discriminator loss: 0.6852 | discriminator PPL:  1.9841\n"
          ],
          "name": "stdout"
        },
        {
          "output_type": "stream",
          "text": [
            " 43%|████▎     | 804/1875 [00:24<00:33, 32.22it/s]"
          ],
          "name": "stderr"
        },
        {
          "output_type": "stream",
          "text": [
            "\n",
            ">>>> time elapsed at the end of epoch 7 of batch 800 is 0 hrs: 00 min: 24.00 sec\n",
            ">>>> generator loss: 0.9362 | generator PPL:  2.5502\n",
            ">>>> discriminator loss: 0.7505 | discriminator PPL:  2.1180\n"
          ],
          "name": "stdout"
        },
        {
          "output_type": "stream",
          "text": [
            " 54%|█████▎    | 1004/1875 [00:30<00:25, 33.63it/s]"
          ],
          "name": "stderr"
        },
        {
          "output_type": "stream",
          "text": [
            "\n",
            ">>>> time elapsed at the end of epoch 7 of batch 1000 is 0 hrs: 00 min: 30.00 sec\n",
            ">>>> generator loss: 1.2669 | generator PPL:  3.5499\n",
            ">>>> discriminator loss: 0.4333 | discriminator PPL:  1.5423\n"
          ],
          "name": "stdout"
        },
        {
          "output_type": "stream",
          "text": [
            " 64%|██████▍   | 1204/1875 [00:37<00:19, 33.60it/s]"
          ],
          "name": "stderr"
        },
        {
          "output_type": "stream",
          "text": [
            "\n",
            ">>>> time elapsed at the end of epoch 7 of batch 1200 is 0 hrs: 00 min: 36.00 sec\n",
            ">>>> generator loss: 1.4874 | generator PPL:  4.4255\n",
            ">>>> discriminator loss: 0.3641 | discriminator PPL:  1.4392\n"
          ],
          "name": "stdout"
        },
        {
          "output_type": "stream",
          "text": [
            " 75%|███████▍  | 1404/1875 [00:43<00:14, 32.13it/s]"
          ],
          "name": "stderr"
        },
        {
          "output_type": "stream",
          "text": [
            "\n",
            ">>>> time elapsed at the end of epoch 7 of batch 1400 is 0 hrs: 00 min: 43.00 sec\n",
            ">>>> generator loss: 1.2187 | generator PPL:  3.3827\n",
            ">>>> discriminator loss: 0.4743 | discriminator PPL:  1.6068\n"
          ],
          "name": "stdout"
        },
        {
          "output_type": "stream",
          "text": [
            " 86%|████████▌ | 1604/1875 [00:49<00:08, 32.73it/s]"
          ],
          "name": "stderr"
        },
        {
          "output_type": "stream",
          "text": [
            "\n",
            ">>>> time elapsed at the end of epoch 7 of batch 1600 is 0 hrs: 00 min: 49.00 sec\n",
            ">>>> generator loss: 1.1285 | generator PPL:  3.0910\n",
            ">>>> discriminator loss: 0.6165 | discriminator PPL:  1.8524\n"
          ],
          "name": "stdout"
        },
        {
          "output_type": "stream",
          "text": [
            " 96%|█████████▌| 1804/1875 [00:55<00:02, 31.73it/s]"
          ],
          "name": "stderr"
        },
        {
          "output_type": "stream",
          "text": [
            "\n",
            ">>>> time elapsed at the end of epoch 7 of batch 1800 is 0 hrs: 00 min: 55.00 sec\n",
            ">>>> generator loss: 0.9162 | generator PPL:  2.4997\n",
            ">>>> discriminator loss: 0.8760 | discriminator PPL:  2.4014\n"
          ],
          "name": "stdout"
        },
        {
          "output_type": "stream",
          "text": [
            "100%|██████████| 1875/1875 [00:57<00:00, 32.51it/s]\n",
            "  0%|          | 4/1875 [00:00<00:58, 31.76it/s]"
          ],
          "name": "stderr"
        },
        {
          "output_type": "stream",
          "text": [
            ">>>> training starts for epoch 8\tplease wait...............\n",
            "\n",
            ">>>> time elapsed at the end of epoch 8 of batch 0 is 0 hrs: 00 min: 00.00 sec\n",
            ">>>> generator loss: 1.3229 | generator PPL:  3.7543\n",
            ">>>> discriminator loss: 0.3734 | discriminator PPL:  1.4526\n"
          ],
          "name": "stdout"
        },
        {
          "output_type": "stream",
          "text": [
            " 11%|█         | 207/1875 [00:06<00:52, 31.86it/s]"
          ],
          "name": "stderr"
        },
        {
          "output_type": "stream",
          "text": [
            "\n",
            ">>>> time elapsed at the end of epoch 8 of batch 200 is 0 hrs: 00 min: 06.00 sec\n",
            ">>>> generator loss: 1.6394 | generator PPL:  5.1520\n",
            ">>>> discriminator loss: 0.3269 | discriminator PPL:  1.3867\n"
          ],
          "name": "stdout"
        },
        {
          "output_type": "stream",
          "text": [
            " 22%|██▏       | 406/1875 [00:13<00:48, 30.02it/s]"
          ],
          "name": "stderr"
        },
        {
          "output_type": "stream",
          "text": [
            "\n",
            ">>>> time elapsed at the end of epoch 8 of batch 400 is 0 hrs: 00 min: 12.00 sec\n",
            ">>>> generator loss: 1.4917 | generator PPL:  4.4445\n",
            ">>>> discriminator loss: 0.4333 | discriminator PPL:  1.5423\n"
          ],
          "name": "stdout"
        },
        {
          "output_type": "stream",
          "text": [
            " 32%|███▏      | 606/1875 [00:19<00:40, 31.70it/s]"
          ],
          "name": "stderr"
        },
        {
          "output_type": "stream",
          "text": [
            "\n",
            ">>>> time elapsed at the end of epoch 8 of batch 600 is 0 hrs: 00 min: 19.00 sec\n",
            ">>>> generator loss: 1.2436 | generator PPL:  3.4680\n",
            ">>>> discriminator loss: 0.4867 | discriminator PPL:  1.6269\n"
          ],
          "name": "stdout"
        },
        {
          "output_type": "stream",
          "text": [
            " 43%|████▎     | 806/1875 [00:25<00:34, 31.31it/s]"
          ],
          "name": "stderr"
        },
        {
          "output_type": "stream",
          "text": [
            "\n",
            ">>>> time elapsed at the end of epoch 8 of batch 800 is 0 hrs: 00 min: 25.00 sec\n",
            ">>>> generator loss: 1.5409 | generator PPL:  4.6688\n",
            ">>>> discriminator loss: 0.4202 | discriminator PPL:  1.5222\n"
          ],
          "name": "stdout"
        },
        {
          "output_type": "stream",
          "text": [
            " 54%|█████▎    | 1005/1875 [00:32<00:28, 30.24it/s]"
          ],
          "name": "stderr"
        },
        {
          "output_type": "stream",
          "text": [
            "\n",
            ">>>> time elapsed at the end of epoch 8 of batch 1000 is 0 hrs: 00 min: 32.00 sec\n",
            ">>>> generator loss: 1.0171 | generator PPL:  2.7652\n",
            ">>>> discriminator loss: 0.5905 | discriminator PPL:  1.8048\n"
          ],
          "name": "stdout"
        },
        {
          "output_type": "stream",
          "text": [
            " 64%|██████▍   | 1205/1875 [00:38<00:21, 30.83it/s]"
          ],
          "name": "stderr"
        },
        {
          "output_type": "stream",
          "text": [
            "\n",
            ">>>> time elapsed at the end of epoch 8 of batch 1200 is 0 hrs: 00 min: 38.00 sec\n",
            ">>>> generator loss: 1.2666 | generator PPL:  3.5489\n",
            ">>>> discriminator loss: 0.4630 | discriminator PPL:  1.5888\n"
          ],
          "name": "stdout"
        },
        {
          "output_type": "stream",
          "text": [
            " 75%|███████▍  | 1405/1875 [00:45<00:15, 30.59it/s]"
          ],
          "name": "stderr"
        },
        {
          "output_type": "stream",
          "text": [
            "\n",
            ">>>> time elapsed at the end of epoch 8 of batch 1400 is 0 hrs: 00 min: 45.00 sec\n",
            ">>>> generator loss: 1.2050 | generator PPL:  3.3368\n",
            ">>>> discriminator loss: 0.6798 | discriminator PPL:  1.9734\n"
          ],
          "name": "stdout"
        },
        {
          "output_type": "stream",
          "text": [
            " 86%|████████▌ | 1605/1875 [00:51<00:08, 31.29it/s]"
          ],
          "name": "stderr"
        },
        {
          "output_type": "stream",
          "text": [
            "\n",
            ">>>> time elapsed at the end of epoch 8 of batch 1600 is 0 hrs: 00 min: 51.00 sec\n",
            ">>>> generator loss: 1.2433 | generator PPL:  3.4671\n",
            ">>>> discriminator loss: 0.6455 | discriminator PPL:  1.9069\n"
          ],
          "name": "stdout"
        },
        {
          "output_type": "stream",
          "text": [
            " 96%|█████████▌| 1804/1875 [00:58<00:02, 29.70it/s]"
          ],
          "name": "stderr"
        },
        {
          "output_type": "stream",
          "text": [
            "\n",
            ">>>> time elapsed at the end of epoch 8 of batch 1800 is 0 hrs: 00 min: 58.00 sec\n",
            ">>>> generator loss: 1.3631 | generator PPL:  3.9082\n",
            ">>>> discriminator loss: 0.4868 | discriminator PPL:  1.6271\n"
          ],
          "name": "stdout"
        },
        {
          "output_type": "stream",
          "text": [
            "100%|██████████| 1875/1875 [01:00<00:00, 30.94it/s]\n",
            "  0%|          | 4/1875 [00:00<00:53, 34.73it/s]"
          ],
          "name": "stderr"
        },
        {
          "output_type": "stream",
          "text": [
            ">>>> training starts for epoch 9\tplease wait...............\n",
            "\n",
            ">>>> time elapsed at the end of epoch 9 of batch 0 is 0 hrs: 00 min: 00.00 sec\n",
            ">>>> generator loss: 1.1221 | generator PPL:  3.0713\n",
            ">>>> discriminator loss: 0.4802 | discriminator PPL:  1.6164\n"
          ],
          "name": "stdout"
        },
        {
          "output_type": "stream",
          "text": [
            " 11%|█         | 203/1875 [00:06<00:53, 31.28it/s]"
          ],
          "name": "stderr"
        },
        {
          "output_type": "stream",
          "text": [
            "\n",
            ">>>> time elapsed at the end of epoch 9 of batch 200 is 0 hrs: 00 min: 06.00 sec\n",
            ">>>> generator loss: 1.9888 | generator PPL:  7.3068\n",
            ">>>> discriminator loss: 0.2951 | discriminator PPL:  1.3433\n"
          ],
          "name": "stdout"
        },
        {
          "output_type": "stream",
          "text": [
            " 21%|██▏       | 403/1875 [00:12<00:46, 31.42it/s]"
          ],
          "name": "stderr"
        },
        {
          "output_type": "stream",
          "text": [
            "\n",
            ">>>> time elapsed at the end of epoch 9 of batch 400 is 0 hrs: 00 min: 12.00 sec\n",
            ">>>> generator loss: 1.3768 | generator PPL:  3.9623\n",
            ">>>> discriminator loss: 0.4400 | discriminator PPL:  1.5526\n"
          ],
          "name": "stdout"
        },
        {
          "output_type": "stream",
          "text": [
            " 32%|███▏      | 603/1875 [00:19<00:41, 30.49it/s]"
          ],
          "name": "stderr"
        },
        {
          "output_type": "stream",
          "text": [
            "\n",
            ">>>> time elapsed at the end of epoch 9 of batch 600 is 0 hrs: 00 min: 19.00 sec\n",
            ">>>> generator loss: 1.7717 | generator PPL:  5.8806\n",
            ">>>> discriminator loss: 0.4214 | discriminator PPL:  1.5240\n"
          ],
          "name": "stdout"
        },
        {
          "output_type": "stream",
          "text": [
            " 43%|████▎     | 803/1875 [00:25<00:34, 31.23it/s]"
          ],
          "name": "stderr"
        },
        {
          "output_type": "stream",
          "text": [
            "\n",
            ">>>> time elapsed at the end of epoch 9 of batch 800 is 0 hrs: 00 min: 25.00 sec\n",
            ">>>> generator loss: 1.3171 | generator PPL:  3.7326\n",
            ">>>> discriminator loss: 0.4523 | discriminator PPL:  1.5720\n"
          ],
          "name": "stdout"
        },
        {
          "output_type": "stream",
          "text": [
            " 53%|█████▎    | 1003/1875 [00:32<00:28, 31.04it/s]"
          ],
          "name": "stderr"
        },
        {
          "output_type": "stream",
          "text": [
            "\n",
            ">>>> time elapsed at the end of epoch 9 of batch 1000 is 0 hrs: 00 min: 31.00 sec\n",
            ">>>> generator loss: 1.0251 | generator PPL:  2.7872\n",
            ">>>> discriminator loss: 0.6680 | discriminator PPL:  1.9503\n"
          ],
          "name": "stdout"
        },
        {
          "output_type": "stream",
          "text": [
            " 64%|██████▍   | 1206/1875 [00:38<00:21, 31.41it/s]"
          ],
          "name": "stderr"
        },
        {
          "output_type": "stream",
          "text": [
            "\n",
            ">>>> time elapsed at the end of epoch 9 of batch 1200 is 0 hrs: 00 min: 38.00 sec\n",
            ">>>> generator loss: 1.4433 | generator PPL:  4.2348\n",
            ">>>> discriminator loss: 0.6670 | discriminator PPL:  1.9483\n"
          ],
          "name": "stdout"
        },
        {
          "output_type": "stream",
          "text": [
            " 75%|███████▍  | 1406/1875 [00:45<00:15, 30.35it/s]"
          ],
          "name": "stderr"
        },
        {
          "output_type": "stream",
          "text": [
            "\n",
            ">>>> time elapsed at the end of epoch 9 of batch 1400 is 0 hrs: 00 min: 44.00 sec\n",
            ">>>> generator loss: 1.9151 | generator PPL:  6.7874\n",
            ">>>> discriminator loss: 0.2657 | discriminator PPL:  1.3043\n"
          ],
          "name": "stdout"
        },
        {
          "output_type": "stream",
          "text": [
            " 86%|████████▌ | 1606/1875 [00:51<00:08, 30.64it/s]"
          ],
          "name": "stderr"
        },
        {
          "output_type": "stream",
          "text": [
            "\n",
            ">>>> time elapsed at the end of epoch 9 of batch 1600 is 0 hrs: 00 min: 51.00 sec\n",
            ">>>> generator loss: 1.3821 | generator PPL:  3.9833\n",
            ">>>> discriminator loss: 0.4929 | discriminator PPL:  1.6371\n"
          ],
          "name": "stdout"
        },
        {
          "output_type": "stream",
          "text": [
            " 96%|█████████▋| 1806/1875 [00:58<00:02, 30.88it/s]"
          ],
          "name": "stderr"
        },
        {
          "output_type": "stream",
          "text": [
            "\n",
            ">>>> time elapsed at the end of epoch 9 of batch 1800 is 0 hrs: 00 min: 57.00 sec\n",
            ">>>> generator loss: 1.3602 | generator PPL:  3.8969\n",
            ">>>> discriminator loss: 0.6769 | discriminator PPL:  1.9677\n"
          ],
          "name": "stdout"
        },
        {
          "output_type": "stream",
          "text": [
            "100%|██████████| 1875/1875 [01:00<00:00, 31.11it/s]\n",
            "  0%|          | 4/1875 [00:00<00:56, 33.39it/s]"
          ],
          "name": "stderr"
        },
        {
          "output_type": "stream",
          "text": [
            ">>>> training starts for epoch 10\tplease wait...............\n",
            "\n",
            ">>>> time elapsed at the end of epoch 10 of batch 0 is 0 hrs: 00 min: 00.00 sec\n",
            ">>>> generator loss: 0.9641 | generator PPL:  2.6225\n",
            ">>>> discriminator loss: 0.6378 | discriminator PPL:  1.8924\n"
          ],
          "name": "stdout"
        },
        {
          "output_type": "stream",
          "text": [
            " 11%|█         | 205/1875 [00:06<00:54, 30.48it/s]"
          ],
          "name": "stderr"
        },
        {
          "output_type": "stream",
          "text": [
            "\n",
            ">>>> time elapsed at the end of epoch 10 of batch 200 is 0 hrs: 00 min: 06.00 sec\n",
            ">>>> generator loss: 1.5999 | generator PPL:  4.9524\n",
            ">>>> discriminator loss: 0.3037 | discriminator PPL:  1.3548\n"
          ],
          "name": "stdout"
        },
        {
          "output_type": "stream",
          "text": [
            " 22%|██▏       | 404/1875 [00:13<00:47, 30.92it/s]"
          ],
          "name": "stderr"
        },
        {
          "output_type": "stream",
          "text": [
            "\n",
            ">>>> time elapsed at the end of epoch 10 of batch 400 is 0 hrs: 00 min: 12.00 sec\n",
            ">>>> generator loss: 1.1951 | generator PPL:  3.3040\n",
            ">>>> discriminator loss: 0.5124 | discriminator PPL:  1.6693\n"
          ],
          "name": "stdout"
        },
        {
          "output_type": "stream",
          "text": [
            " 32%|███▏      | 604/1875 [00:19<00:40, 31.11it/s]"
          ],
          "name": "stderr"
        },
        {
          "output_type": "stream",
          "text": [
            "\n",
            ">>>> time elapsed at the end of epoch 10 of batch 600 is 0 hrs: 00 min: 19.00 sec\n",
            ">>>> generator loss: 1.5588 | generator PPL:  4.7530\n",
            ">>>> discriminator loss: 0.5095 | discriminator PPL:  1.6644\n"
          ],
          "name": "stdout"
        },
        {
          "output_type": "stream",
          "text": [
            " 43%|████▎     | 804/1875 [00:26<00:35, 30.19it/s]"
          ],
          "name": "stderr"
        },
        {
          "output_type": "stream",
          "text": [
            "\n",
            ">>>> time elapsed at the end of epoch 10 of batch 800 is 0 hrs: 00 min: 25.00 sec\n",
            ">>>> generator loss: 1.8357 | generator PPL:  6.2698\n",
            ">>>> discriminator loss: 0.5192 | discriminator PPL:  1.6807\n"
          ],
          "name": "stdout"
        },
        {
          "output_type": "stream",
          "text": [
            " 53%|█████▎    | 1003/1875 [00:32<00:27, 32.16it/s]"
          ],
          "name": "stderr"
        },
        {
          "output_type": "stream",
          "text": [
            "\n",
            ">>>> time elapsed at the end of epoch 10 of batch 1000 is 0 hrs: 00 min: 32.00 sec\n",
            ">>>> generator loss: 1.5580 | generator PPL:  4.7493\n",
            ">>>> discriminator loss: 0.9042 | discriminator PPL:  2.4700\n"
          ],
          "name": "stdout"
        },
        {
          "output_type": "stream",
          "text": [
            " 64%|██████▍   | 1204/1875 [00:39<00:23, 28.85it/s]"
          ],
          "name": "stderr"
        },
        {
          "output_type": "stream",
          "text": [
            "\n",
            ">>>> time elapsed at the end of epoch 10 of batch 1200 is 0 hrs: 00 min: 38.00 sec\n",
            ">>>> generator loss: 1.0429 | generator PPL:  2.8375\n",
            ">>>> discriminator loss: 0.6410 | discriminator PPL:  1.8983\n"
          ],
          "name": "stdout"
        },
        {
          "output_type": "stream",
          "text": [
            " 75%|███████▍  | 1403/1875 [00:45<00:15, 29.83it/s]"
          ],
          "name": "stderr"
        },
        {
          "output_type": "stream",
          "text": [
            "\n",
            ">>>> time elapsed at the end of epoch 10 of batch 1400 is 0 hrs: 00 min: 45.00 sec\n",
            ">>>> generator loss: 1.3519 | generator PPL:  3.8647\n",
            ">>>> discriminator loss: 0.5856 | discriminator PPL:  1.7961\n"
          ],
          "name": "stdout"
        },
        {
          "output_type": "stream",
          "text": [
            " 86%|████████▌ | 1605/1875 [00:52<00:08, 31.07it/s]"
          ],
          "name": "stderr"
        },
        {
          "output_type": "stream",
          "text": [
            "\n",
            ">>>> time elapsed at the end of epoch 10 of batch 1600 is 0 hrs: 00 min: 52.00 sec\n",
            ">>>> generator loss: 1.1271 | generator PPL:  3.0868\n",
            ">>>> discriminator loss: 0.6589 | discriminator PPL:  1.9326\n"
          ],
          "name": "stdout"
        },
        {
          "output_type": "stream",
          "text": [
            " 96%|█████████▋| 1805/1875 [00:58<00:02, 30.30it/s]"
          ],
          "name": "stderr"
        },
        {
          "output_type": "stream",
          "text": [
            "\n",
            ">>>> time elapsed at the end of epoch 10 of batch 1800 is 0 hrs: 00 min: 58.00 sec\n",
            ">>>> generator loss: 1.6709 | generator PPL:  5.3171\n",
            ">>>> discriminator loss: 0.4255 | discriminator PPL:  1.5303\n"
          ],
          "name": "stdout"
        },
        {
          "output_type": "stream",
          "text": [
            "100%|██████████| 1875/1875 [01:01<00:00, 30.63it/s]\n",
            "  0%|          | 4/1875 [00:00<00:58, 32.05it/s]"
          ],
          "name": "stderr"
        },
        {
          "output_type": "stream",
          "text": [
            ">>>> training starts for epoch 11\tplease wait...............\n",
            "\n",
            ">>>> time elapsed at the end of epoch 11 of batch 0 is 0 hrs: 00 min: 00.00 sec\n",
            ">>>> generator loss: 1.0600 | generator PPL:  2.8865\n",
            ">>>> discriminator loss: 0.6837 | discriminator PPL:  1.9811\n"
          ],
          "name": "stdout"
        },
        {
          "output_type": "stream",
          "text": [
            " 11%|█         | 203/1875 [00:06<00:55, 30.24it/s]"
          ],
          "name": "stderr"
        },
        {
          "output_type": "stream",
          "text": [
            "\n",
            ">>>> time elapsed at the end of epoch 11 of batch 200 is 0 hrs: 00 min: 06.00 sec\n",
            ">>>> generator loss: 1.0079 | generator PPL:  2.7399\n",
            ">>>> discriminator loss: 0.7891 | discriminator PPL:  2.2015\n"
          ],
          "name": "stdout"
        },
        {
          "output_type": "stream",
          "text": [
            " 22%|██▏       | 405/1875 [00:13<00:51, 28.74it/s]"
          ],
          "name": "stderr"
        },
        {
          "output_type": "stream",
          "text": [
            "\n",
            ">>>> time elapsed at the end of epoch 11 of batch 400 is 0 hrs: 00 min: 13.00 sec\n",
            ">>>> generator loss: 1.4173 | generator PPL:  4.1260\n",
            ">>>> discriminator loss: 0.5448 | discriminator PPL:  1.7243\n"
          ],
          "name": "stdout"
        },
        {
          "output_type": "stream",
          "text": [
            " 32%|███▏      | 603/1875 [00:20<00:43, 29.28it/s]"
          ],
          "name": "stderr"
        },
        {
          "output_type": "stream",
          "text": [
            "\n",
            ">>>> time elapsed at the end of epoch 11 of batch 600 is 0 hrs: 00 min: 20.00 sec\n",
            ">>>> generator loss: 1.0098 | generator PPL:  2.7450\n",
            ">>>> discriminator loss: 0.4709 | discriminator PPL:  1.6015\n"
          ],
          "name": "stdout"
        },
        {
          "output_type": "stream",
          "text": [
            " 43%|████▎     | 806/1875 [00:26<00:34, 30.62it/s]"
          ],
          "name": "stderr"
        },
        {
          "output_type": "stream",
          "text": [
            "\n",
            ">>>> time elapsed at the end of epoch 11 of batch 800 is 0 hrs: 00 min: 26.00 sec\n",
            ">>>> generator loss: 1.9947 | generator PPL:  7.3497\n",
            ">>>> discriminator loss: 0.3235 | discriminator PPL:  1.3820\n"
          ],
          "name": "stdout"
        },
        {
          "output_type": "stream",
          "text": [
            " 54%|█████▎    | 1006/1875 [00:33<00:29, 29.69it/s]"
          ],
          "name": "stderr"
        },
        {
          "output_type": "stream",
          "text": [
            "\n",
            ">>>> time elapsed at the end of epoch 11 of batch 1000 is 0 hrs: 00 min: 33.00 sec\n",
            ">>>> generator loss: 1.3908 | generator PPL:  4.0182\n",
            ">>>> discriminator loss: 0.5327 | discriminator PPL:  1.7035\n"
          ],
          "name": "stdout"
        },
        {
          "output_type": "stream",
          "text": [
            " 64%|██████▍   | 1204/1875 [00:40<00:24, 27.92it/s]"
          ],
          "name": "stderr"
        },
        {
          "output_type": "stream",
          "text": [
            "\n",
            ">>>> time elapsed at the end of epoch 11 of batch 1200 is 0 hrs: 00 min: 40.00 sec\n",
            ">>>> generator loss: 1.7748 | generator PPL:  5.8991\n",
            ">>>> discriminator loss: 0.4198 | discriminator PPL:  1.5217\n"
          ],
          "name": "stdout"
        },
        {
          "output_type": "stream",
          "text": [
            " 75%|███████▍  | 1406/1875 [00:47<00:16, 28.63it/s]"
          ],
          "name": "stderr"
        },
        {
          "output_type": "stream",
          "text": [
            "\n",
            ">>>> time elapsed at the end of epoch 11 of batch 1400 is 0 hrs: 00 min: 47.00 sec\n",
            ">>>> generator loss: 1.4614 | generator PPL:  4.3121\n",
            ">>>> discriminator loss: 0.4950 | discriminator PPL:  1.6405\n"
          ],
          "name": "stdout"
        },
        {
          "output_type": "stream",
          "text": [
            " 85%|████████▌ | 1603/1875 [00:53<00:09, 30.09it/s]"
          ],
          "name": "stderr"
        },
        {
          "output_type": "stream",
          "text": [
            "\n",
            ">>>> time elapsed at the end of epoch 11 of batch 1600 is 0 hrs: 00 min: 53.00 sec\n",
            ">>>> generator loss: 1.5235 | generator PPL:  4.5882\n",
            ">>>> discriminator loss: 0.5876 | discriminator PPL:  1.7996\n"
          ],
          "name": "stdout"
        },
        {
          "output_type": "stream",
          "text": [
            " 96%|█████████▋| 1806/1875 [01:00<00:02, 30.54it/s]"
          ],
          "name": "stderr"
        },
        {
          "output_type": "stream",
          "text": [
            "\n",
            ">>>> time elapsed at the end of epoch 11 of batch 1800 is 0 hrs: 01 min: 00.00 sec\n",
            ">>>> generator loss: 1.2011 | generator PPL:  3.3237\n",
            ">>>> discriminator loss: 0.6708 | discriminator PPL:  1.9559\n"
          ],
          "name": "stdout"
        },
        {
          "output_type": "stream",
          "text": [
            "100%|██████████| 1875/1875 [01:02<00:00, 29.80it/s]\n",
            "  0%|          | 4/1875 [00:00<00:59, 31.68it/s]"
          ],
          "name": "stderr"
        },
        {
          "output_type": "stream",
          "text": [
            ">>>> training starts for epoch 12\tplease wait...............\n",
            "\n",
            ">>>> time elapsed at the end of epoch 12 of batch 0 is 0 hrs: 00 min: 00.00 sec\n",
            ">>>> generator loss: 1.4887 | generator PPL:  4.4315\n",
            ">>>> discriminator loss: 0.4531 | discriminator PPL:  1.5732\n"
          ],
          "name": "stdout"
        },
        {
          "output_type": "stream",
          "text": [
            " 11%|█         | 203/1875 [00:06<00:59, 28.14it/s]"
          ],
          "name": "stderr"
        },
        {
          "output_type": "stream",
          "text": [
            "\n",
            ">>>> time elapsed at the end of epoch 12 of batch 200 is 0 hrs: 00 min: 06.00 sec\n",
            ">>>> generator loss: 1.6804 | generator PPL:  5.3679\n",
            ">>>> discriminator loss: 0.3845 | discriminator PPL:  1.4689\n"
          ],
          "name": "stdout"
        },
        {
          "output_type": "stream",
          "text": [
            " 22%|██▏       | 404/1875 [00:13<00:47, 30.75it/s]"
          ],
          "name": "stderr"
        },
        {
          "output_type": "stream",
          "text": [
            "\n",
            ">>>> time elapsed at the end of epoch 12 of batch 400 is 0 hrs: 00 min: 13.00 sec\n",
            ">>>> generator loss: 1.4426 | generator PPL:  4.2317\n",
            ">>>> discriminator loss: 0.4625 | discriminator PPL:  1.5881\n"
          ],
          "name": "stdout"
        },
        {
          "output_type": "stream",
          "text": [
            " 32%|███▏      | 606/1875 [00:20<00:41, 30.59it/s]"
          ],
          "name": "stderr"
        },
        {
          "output_type": "stream",
          "text": [
            "\n",
            ">>>> time elapsed at the end of epoch 12 of batch 600 is 0 hrs: 00 min: 20.00 sec\n",
            ">>>> generator loss: 1.1494 | generator PPL:  3.1563\n",
            ">>>> discriminator loss: 0.7101 | discriminator PPL:  2.0342\n"
          ],
          "name": "stdout"
        },
        {
          "output_type": "stream",
          "text": [
            " 43%|████▎     | 806/1875 [00:26<00:37, 28.39it/s]"
          ],
          "name": "stderr"
        },
        {
          "output_type": "stream",
          "text": [
            "\n",
            ">>>> time elapsed at the end of epoch 12 of batch 800 is 0 hrs: 00 min: 26.00 sec\n",
            ">>>> generator loss: 0.9048 | generator PPL:  2.4715\n",
            ">>>> discriminator loss: 0.8112 | discriminator PPL:  2.2507\n"
          ],
          "name": "stdout"
        },
        {
          "output_type": "stream",
          "text": [
            " 54%|█████▎    | 1005/1875 [00:33<00:28, 30.97it/s]"
          ],
          "name": "stderr"
        },
        {
          "output_type": "stream",
          "text": [
            "\n",
            ">>>> time elapsed at the end of epoch 12 of batch 1000 is 0 hrs: 00 min: 33.00 sec\n",
            ">>>> generator loss: 1.6929 | generator PPL:  5.4354\n",
            ">>>> discriminator loss: 0.4182 | discriminator PPL:  1.5193\n"
          ],
          "name": "stdout"
        },
        {
          "output_type": "stream",
          "text": [
            " 64%|██████▍   | 1204/1875 [00:39<00:21, 31.47it/s]"
          ],
          "name": "stderr"
        },
        {
          "output_type": "stream",
          "text": [
            "\n",
            ">>>> time elapsed at the end of epoch 12 of batch 1200 is 0 hrs: 00 min: 39.00 sec\n",
            ">>>> generator loss: 1.0225 | generator PPL:  2.7801\n",
            ">>>> discriminator loss: 0.6913 | discriminator PPL:  1.9964\n"
          ],
          "name": "stdout"
        },
        {
          "output_type": "stream",
          "text": [
            " 75%|███████▍  | 1404/1875 [00:46<00:14, 31.59it/s]"
          ],
          "name": "stderr"
        },
        {
          "output_type": "stream",
          "text": [
            "\n",
            ">>>> time elapsed at the end of epoch 12 of batch 1400 is 0 hrs: 00 min: 46.00 sec\n",
            ">>>> generator loss: 1.4246 | generator PPL:  4.1561\n",
            ">>>> discriminator loss: 0.5164 | discriminator PPL:  1.6760\n"
          ],
          "name": "stdout"
        },
        {
          "output_type": "stream",
          "text": [
            " 86%|████████▌ | 1604/1875 [00:52<00:08, 31.91it/s]"
          ],
          "name": "stderr"
        },
        {
          "output_type": "stream",
          "text": [
            "\n",
            ">>>> time elapsed at the end of epoch 12 of batch 1600 is 0 hrs: 00 min: 52.00 sec\n",
            ">>>> generator loss: 1.4186 | generator PPL:  4.1312\n",
            ">>>> discriminator loss: 0.5242 | discriminator PPL:  1.6891\n"
          ],
          "name": "stdout"
        },
        {
          "output_type": "stream",
          "text": [
            " 96%|█████████▌| 1804/1875 [00:58<00:02, 31.55it/s]"
          ],
          "name": "stderr"
        },
        {
          "output_type": "stream",
          "text": [
            "\n",
            ">>>> time elapsed at the end of epoch 12 of batch 1800 is 0 hrs: 00 min: 58.00 sec\n",
            ">>>> generator loss: 1.9241 | generator PPL:  6.8489\n",
            ">>>> discriminator loss: 0.3119 | discriminator PPL:  1.3660\n"
          ],
          "name": "stdout"
        },
        {
          "output_type": "stream",
          "text": [
            "100%|██████████| 1875/1875 [01:01<00:00, 30.68it/s]\n",
            "  0%|          | 4/1875 [00:00<00:54, 34.04it/s]"
          ],
          "name": "stderr"
        },
        {
          "output_type": "stream",
          "text": [
            ">>>> training starts for epoch 13\tplease wait...............\n",
            "\n",
            ">>>> time elapsed at the end of epoch 13 of batch 0 is 0 hrs: 00 min: 00.00 sec\n",
            ">>>> generator loss: 1.0691 | generator PPL:  2.9128\n",
            ">>>> discriminator loss: 0.5363 | discriminator PPL:  1.7097\n"
          ],
          "name": "stdout"
        },
        {
          "output_type": "stream",
          "text": [
            " 11%|█         | 204/1875 [00:06<00:54, 30.90it/s]"
          ],
          "name": "stderr"
        },
        {
          "output_type": "stream",
          "text": [
            "\n",
            ">>>> time elapsed at the end of epoch 13 of batch 200 is 0 hrs: 00 min: 06.00 sec\n",
            ">>>> generator loss: 1.4004 | generator PPL:  4.0568\n",
            ">>>> discriminator loss: 0.5280 | discriminator PPL:  1.6955\n"
          ],
          "name": "stdout"
        },
        {
          "output_type": "stream",
          "text": [
            " 22%|██▏       | 404/1875 [00:12<00:46, 31.80it/s]"
          ],
          "name": "stderr"
        },
        {
          "output_type": "stream",
          "text": [
            "\n",
            ">>>> time elapsed at the end of epoch 13 of batch 400 is 0 hrs: 00 min: 12.00 sec\n",
            ">>>> generator loss: 1.3893 | generator PPL:  4.0122\n",
            ">>>> discriminator loss: 0.4928 | discriminator PPL:  1.6369\n"
          ],
          "name": "stdout"
        },
        {
          "output_type": "stream",
          "text": [
            " 32%|███▏      | 604/1875 [00:19<00:40, 31.47it/s]"
          ],
          "name": "stderr"
        },
        {
          "output_type": "stream",
          "text": [
            "\n",
            ">>>> time elapsed at the end of epoch 13 of batch 600 is 0 hrs: 00 min: 19.00 sec\n",
            ">>>> generator loss: 1.7963 | generator PPL:  6.0275\n",
            ">>>> discriminator loss: 0.4575 | discriminator PPL:  1.5802\n"
          ],
          "name": "stdout"
        },
        {
          "output_type": "stream",
          "text": [
            " 43%|████▎     | 806/1875 [00:25<00:33, 31.45it/s]"
          ],
          "name": "stderr"
        },
        {
          "output_type": "stream",
          "text": [
            "\n",
            ">>>> time elapsed at the end of epoch 13 of batch 800 is 0 hrs: 00 min: 25.00 sec\n",
            ">>>> generator loss: 1.2697 | generator PPL:  3.5597\n",
            ">>>> discriminator loss: 0.7463 | discriminator PPL:  2.1093\n"
          ],
          "name": "stdout"
        },
        {
          "output_type": "stream",
          "text": [
            " 54%|█████▎    | 1006/1875 [00:32<00:26, 32.29it/s]"
          ],
          "name": "stderr"
        },
        {
          "output_type": "stream",
          "text": [
            "\n",
            ">>>> time elapsed at the end of epoch 13 of batch 1000 is 0 hrs: 00 min: 31.00 sec\n",
            ">>>> generator loss: 1.1942 | generator PPL:  3.3011\n",
            ">>>> discriminator loss: 0.4095 | discriminator PPL:  1.5061\n"
          ],
          "name": "stdout"
        },
        {
          "output_type": "stream",
          "text": [
            " 64%|██████▍   | 1206/1875 [00:38<00:20, 31.98it/s]"
          ],
          "name": "stderr"
        },
        {
          "output_type": "stream",
          "text": [
            "\n",
            ">>>> time elapsed at the end of epoch 13 of batch 1200 is 0 hrs: 00 min: 38.00 sec\n",
            ">>>> generator loss: 1.7002 | generator PPL:  5.4750\n",
            ">>>> discriminator loss: 0.5098 | discriminator PPL:  1.6649\n"
          ],
          "name": "stdout"
        },
        {
          "output_type": "stream",
          "text": [
            " 75%|███████▍  | 1406/1875 [00:44<00:14, 32.30it/s]"
          ],
          "name": "stderr"
        },
        {
          "output_type": "stream",
          "text": [
            "\n",
            ">>>> time elapsed at the end of epoch 13 of batch 1400 is 0 hrs: 00 min: 44.00 sec\n",
            ">>>> generator loss: 1.1576 | generator PPL:  3.1822\n",
            ">>>> discriminator loss: 0.5211 | discriminator PPL:  1.6839\n"
          ],
          "name": "stdout"
        },
        {
          "output_type": "stream",
          "text": [
            " 86%|████████▌ | 1606/1875 [00:50<00:08, 31.98it/s]"
          ],
          "name": "stderr"
        },
        {
          "output_type": "stream",
          "text": [
            "\n",
            ">>>> time elapsed at the end of epoch 13 of batch 1600 is 0 hrs: 00 min: 50.00 sec\n",
            ">>>> generator loss: 1.5144 | generator PPL:  4.5467\n",
            ">>>> discriminator loss: 0.5219 | discriminator PPL:  1.6853\n"
          ],
          "name": "stdout"
        },
        {
          "output_type": "stream",
          "text": [
            " 96%|█████████▌| 1804/1875 [00:57<00:02, 31.81it/s]"
          ],
          "name": "stderr"
        },
        {
          "output_type": "stream",
          "text": [
            "\n",
            ">>>> time elapsed at the end of epoch 13 of batch 1800 is 0 hrs: 00 min: 56.00 sec\n",
            ">>>> generator loss: 1.7345 | generator PPL:  5.6663\n",
            ">>>> discriminator loss: 0.5361 | discriminator PPL:  1.7093\n"
          ],
          "name": "stdout"
        },
        {
          "output_type": "stream",
          "text": [
            "100%|██████████| 1875/1875 [00:59<00:00, 31.63it/s]\n",
            "  0%|          | 4/1875 [00:00<00:54, 34.47it/s]"
          ],
          "name": "stderr"
        },
        {
          "output_type": "stream",
          "text": [
            ">>>> training starts for epoch 14\tplease wait...............\n",
            "\n",
            ">>>> time elapsed at the end of epoch 14 of batch 0 is 0 hrs: 00 min: 00.00 sec\n",
            ">>>> generator loss: 1.7583 | generator PPL:  5.8027\n",
            ">>>> discriminator loss: 0.3914 | discriminator PPL:  1.4791\n"
          ],
          "name": "stdout"
        },
        {
          "output_type": "stream",
          "text": [
            " 11%|█         | 206/1875 [00:06<00:51, 32.47it/s]"
          ],
          "name": "stderr"
        },
        {
          "output_type": "stream",
          "text": [
            "\n",
            ">>>> time elapsed at the end of epoch 14 of batch 200 is 0 hrs: 00 min: 06.00 sec\n",
            ">>>> generator loss: 2.0130 | generator PPL:  7.4857\n",
            ">>>> discriminator loss: 0.4691 | discriminator PPL:  1.5986\n"
          ],
          "name": "stdout"
        },
        {
          "output_type": "stream",
          "text": [
            " 22%|██▏       | 406/1875 [00:12<00:44, 32.98it/s]"
          ],
          "name": "stderr"
        },
        {
          "output_type": "stream",
          "text": [
            "\n",
            ">>>> time elapsed at the end of epoch 14 of batch 400 is 0 hrs: 00 min: 12.00 sec\n",
            ">>>> generator loss: 2.0197 | generator PPL:  7.5358\n",
            ">>>> discriminator loss: 0.3936 | discriminator PPL:  1.4823\n"
          ],
          "name": "stdout"
        },
        {
          "output_type": "stream",
          "text": [
            " 32%|███▏      | 606/1875 [00:18<00:39, 32.00it/s]"
          ],
          "name": "stderr"
        },
        {
          "output_type": "stream",
          "text": [
            "\n",
            ">>>> time elapsed at the end of epoch 14 of batch 600 is 0 hrs: 00 min: 18.00 sec\n",
            ">>>> generator loss: 1.6344 | generator PPL:  5.1265\n",
            ">>>> discriminator loss: 0.4289 | discriminator PPL:  1.5356\n"
          ],
          "name": "stdout"
        },
        {
          "output_type": "stream",
          "text": [
            " 43%|████▎     | 804/1875 [00:24<00:35, 30.43it/s]"
          ],
          "name": "stderr"
        },
        {
          "output_type": "stream",
          "text": [
            "\n",
            ">>>> time elapsed at the end of epoch 14 of batch 800 is 0 hrs: 00 min: 24.00 sec\n",
            ">>>> generator loss: 1.7993 | generator PPL:  6.0454\n",
            ">>>> discriminator loss: 0.4552 | discriminator PPL:  1.5765\n"
          ],
          "name": "stdout"
        },
        {
          "output_type": "stream",
          "text": [
            " 54%|█████▎    | 1004/1875 [00:31<00:26, 32.42it/s]"
          ],
          "name": "stderr"
        },
        {
          "output_type": "stream",
          "text": [
            "\n",
            ">>>> time elapsed at the end of epoch 14 of batch 1000 is 0 hrs: 00 min: 30.00 sec\n",
            ">>>> generator loss: 1.8968 | generator PPL:  6.6647\n",
            ">>>> discriminator loss: 0.4570 | discriminator PPL:  1.5793\n"
          ],
          "name": "stdout"
        },
        {
          "output_type": "stream",
          "text": [
            " 64%|██████▍   | 1204/1875 [00:37<00:20, 33.13it/s]"
          ],
          "name": "stderr"
        },
        {
          "output_type": "stream",
          "text": [
            "\n",
            ">>>> time elapsed at the end of epoch 14 of batch 1200 is 0 hrs: 00 min: 37.00 sec\n",
            ">>>> generator loss: 1.4566 | generator PPL:  4.2913\n",
            ">>>> discriminator loss: 0.4524 | discriminator PPL:  1.5721\n"
          ],
          "name": "stdout"
        },
        {
          "output_type": "stream",
          "text": [
            " 75%|███████▍  | 1404/1875 [00:43<00:14, 32.01it/s]"
          ],
          "name": "stderr"
        },
        {
          "output_type": "stream",
          "text": [
            "\n",
            ">>>> time elapsed at the end of epoch 14 of batch 1400 is 0 hrs: 00 min: 43.00 sec\n",
            ">>>> generator loss: 1.3246 | generator PPL:  3.7607\n",
            ">>>> discriminator loss: 0.5110 | discriminator PPL:  1.6670\n"
          ],
          "name": "stdout"
        },
        {
          "output_type": "stream",
          "text": [
            " 86%|████████▌ | 1607/1875 [00:49<00:08, 33.46it/s]"
          ],
          "name": "stderr"
        },
        {
          "output_type": "stream",
          "text": [
            "\n",
            ">>>> time elapsed at the end of epoch 14 of batch 1600 is 0 hrs: 00 min: 49.00 sec\n",
            ">>>> generator loss: 2.2761 | generator PPL:  9.7385\n",
            ">>>> discriminator loss: 0.3061 | discriminator PPL:  1.3581\n"
          ],
          "name": "stdout"
        },
        {
          "output_type": "stream",
          "text": [
            " 96%|█████████▋| 1807/1875 [00:55<00:02, 33.08it/s]"
          ],
          "name": "stderr"
        },
        {
          "output_type": "stream",
          "text": [
            "\n",
            ">>>> time elapsed at the end of epoch 14 of batch 1800 is 0 hrs: 00 min: 55.00 sec\n",
            ">>>> generator loss: 1.4288 | generator PPL:  4.1735\n",
            ">>>> discriminator loss: 0.5678 | discriminator PPL:  1.7644\n"
          ],
          "name": "stdout"
        },
        {
          "output_type": "stream",
          "text": [
            "100%|██████████| 1875/1875 [00:57<00:00, 32.42it/s]\n",
            "  0%|          | 4/1875 [00:00<00:52, 35.88it/s]"
          ],
          "name": "stderr"
        },
        {
          "output_type": "stream",
          "text": [
            ">>>> training starts for epoch 15\tplease wait...............\n",
            "\n",
            ">>>> time elapsed at the end of epoch 15 of batch 0 is 0 hrs: 00 min: 00.00 sec\n",
            ">>>> generator loss: 1.3852 | generator PPL:  3.9957\n",
            ">>>> discriminator loss: 0.5478 | discriminator PPL:  1.7295\n"
          ],
          "name": "stdout"
        },
        {
          "output_type": "stream",
          "text": [
            " 11%|█         | 207/1875 [00:06<00:51, 32.49it/s]"
          ],
          "name": "stderr"
        },
        {
          "output_type": "stream",
          "text": [
            "\n",
            ">>>> time elapsed at the end of epoch 15 of batch 200 is 0 hrs: 00 min: 06.00 sec\n",
            ">>>> generator loss: 1.7549 | generator PPL:  5.7829\n",
            ">>>> discriminator loss: 0.3305 | discriminator PPL:  1.3917\n"
          ],
          "name": "stdout"
        },
        {
          "output_type": "stream",
          "text": [
            " 21%|██▏       | 403/1875 [00:12<00:46, 31.76it/s]"
          ],
          "name": "stderr"
        },
        {
          "output_type": "stream",
          "text": [
            "\n",
            ">>>> time elapsed at the end of epoch 15 of batch 400 is 0 hrs: 00 min: 12.00 sec\n",
            ">>>> generator loss: 1.4230 | generator PPL:  4.1494\n",
            ">>>> discriminator loss: 0.5497 | discriminator PPL:  1.7327\n"
          ],
          "name": "stdout"
        },
        {
          "output_type": "stream",
          "text": [
            " 32%|███▏      | 607/1875 [00:18<00:39, 32.38it/s]"
          ],
          "name": "stderr"
        },
        {
          "output_type": "stream",
          "text": [
            "\n",
            ">>>> time elapsed at the end of epoch 15 of batch 600 is 0 hrs: 00 min: 18.00 sec\n",
            ">>>> generator loss: 1.6040 | generator PPL:  4.9729\n",
            ">>>> discriminator loss: 0.5117 | discriminator PPL:  1.6682\n"
          ],
          "name": "stdout"
        },
        {
          "output_type": "stream",
          "text": [
            " 43%|████▎     | 803/1875 [00:24<00:33, 31.87it/s]"
          ],
          "name": "stderr"
        },
        {
          "output_type": "stream",
          "text": [
            "\n",
            ">>>> time elapsed at the end of epoch 15 of batch 800 is 0 hrs: 00 min: 24.00 sec\n",
            ">>>> generator loss: 1.2126 | generator PPL:  3.3623\n",
            ">>>> discriminator loss: 0.6635 | discriminator PPL:  1.9416\n"
          ],
          "name": "stdout"
        },
        {
          "output_type": "stream",
          "text": [
            " 54%|█████▎    | 1004/1875 [00:31<00:27, 31.35it/s]"
          ],
          "name": "stderr"
        },
        {
          "output_type": "stream",
          "text": [
            "\n",
            ">>>> time elapsed at the end of epoch 15 of batch 1000 is 0 hrs: 00 min: 31.00 sec\n",
            ">>>> generator loss: 1.5317 | generator PPL:  4.6260\n",
            ">>>> discriminator loss: 0.4320 | discriminator PPL:  1.5403\n"
          ],
          "name": "stdout"
        },
        {
          "output_type": "stream",
          "text": [
            " 64%|██████▍   | 1206/1875 [00:37<00:21, 30.62it/s]"
          ],
          "name": "stderr"
        },
        {
          "output_type": "stream",
          "text": [
            "\n",
            ">>>> time elapsed at the end of epoch 15 of batch 1200 is 0 hrs: 00 min: 37.00 sec\n",
            ">>>> generator loss: 1.7612 | generator PPL:  5.8195\n",
            ">>>> discriminator loss: 0.3570 | discriminator PPL:  1.4291\n"
          ],
          "name": "stdout"
        },
        {
          "output_type": "stream",
          "text": [
            " 75%|███████▍  | 1406/1875 [00:44<00:14, 31.85it/s]"
          ],
          "name": "stderr"
        },
        {
          "output_type": "stream",
          "text": [
            "\n",
            ">>>> time elapsed at the end of epoch 15 of batch 1400 is 0 hrs: 00 min: 43.00 sec\n",
            ">>>> generator loss: 0.9744 | generator PPL:  2.6496\n",
            ">>>> discriminator loss: 0.8345 | discriminator PPL:  2.3036\n"
          ],
          "name": "stdout"
        },
        {
          "output_type": "stream",
          "text": [
            " 86%|████████▌ | 1606/1875 [00:50<00:08, 32.27it/s]"
          ],
          "name": "stderr"
        },
        {
          "output_type": "stream",
          "text": [
            "\n",
            ">>>> time elapsed at the end of epoch 15 of batch 1600 is 0 hrs: 00 min: 50.00 sec\n",
            ">>>> generator loss: 1.4837 | generator PPL:  4.4092\n",
            ">>>> discriminator loss: 0.6407 | discriminator PPL:  1.8977\n"
          ],
          "name": "stdout"
        },
        {
          "output_type": "stream",
          "text": [
            " 96%|█████████▋| 1806/1875 [00:56<00:02, 33.27it/s]"
          ],
          "name": "stderr"
        },
        {
          "output_type": "stream",
          "text": [
            "\n",
            ">>>> time elapsed at the end of epoch 15 of batch 1800 is 0 hrs: 00 min: 56.00 sec\n",
            ">>>> generator loss: 1.4873 | generator PPL:  4.4250\n",
            ">>>> discriminator loss: 0.3183 | discriminator PPL:  1.3749\n"
          ],
          "name": "stdout"
        },
        {
          "output_type": "stream",
          "text": [
            "100%|██████████| 1875/1875 [00:58<00:00, 32.04it/s]\n",
            "  0%|          | 4/1875 [00:00<00:53, 34.70it/s]"
          ],
          "name": "stderr"
        },
        {
          "output_type": "stream",
          "text": [
            ">>>> training starts for epoch 16\tplease wait...............\n",
            "\n",
            ">>>> time elapsed at the end of epoch 16 of batch 0 is 0 hrs: 00 min: 00.00 sec\n",
            ">>>> generator loss: 1.3994 | generator PPL:  4.0526\n",
            ">>>> discriminator loss: 0.4497 | discriminator PPL:  1.5678\n"
          ],
          "name": "stdout"
        },
        {
          "output_type": "stream",
          "text": [
            " 11%|█         | 204/1875 [00:06<00:51, 32.30it/s]"
          ],
          "name": "stderr"
        },
        {
          "output_type": "stream",
          "text": [
            "\n",
            ">>>> time elapsed at the end of epoch 16 of batch 200 is 0 hrs: 00 min: 06.00 sec\n",
            ">>>> generator loss: 1.6742 | generator PPL:  5.3344\n",
            ">>>> discriminator loss: 0.4213 | discriminator PPL:  1.5239\n"
          ],
          "name": "stdout"
        },
        {
          "output_type": "stream",
          "text": [
            " 22%|██▏       | 404/1875 [00:12<00:46, 31.97it/s]"
          ],
          "name": "stderr"
        },
        {
          "output_type": "stream",
          "text": [
            "\n",
            ">>>> time elapsed at the end of epoch 16 of batch 400 is 0 hrs: 00 min: 12.00 sec\n",
            ">>>> generator loss: 2.3325 | generator PPL: 10.3040\n",
            ">>>> discriminator loss: 0.3632 | discriminator PPL:  1.4380\n"
          ],
          "name": "stdout"
        },
        {
          "output_type": "stream",
          "text": [
            " 32%|███▏      | 604/1875 [00:18<00:38, 33.12it/s]"
          ],
          "name": "stderr"
        },
        {
          "output_type": "stream",
          "text": [
            "\n",
            ">>>> time elapsed at the end of epoch 16 of batch 600 is 0 hrs: 00 min: 18.00 sec\n",
            ">>>> generator loss: 1.5683 | generator PPL:  4.7985\n",
            ">>>> discriminator loss: 0.4828 | discriminator PPL:  1.6206\n"
          ],
          "name": "stdout"
        },
        {
          "output_type": "stream",
          "text": [
            " 43%|████▎     | 804/1875 [00:24<00:32, 32.78it/s]"
          ],
          "name": "stderr"
        },
        {
          "output_type": "stream",
          "text": [
            "\n",
            ">>>> time elapsed at the end of epoch 16 of batch 800 is 0 hrs: 00 min: 24.00 sec\n",
            ">>>> generator loss: 1.8925 | generator PPL:  6.6359\n",
            ">>>> discriminator loss: 0.4481 | discriminator PPL:  1.5654\n"
          ],
          "name": "stdout"
        },
        {
          "output_type": "stream",
          "text": [
            " 54%|█████▎    | 1004/1875 [00:31<00:27, 31.96it/s]"
          ],
          "name": "stderr"
        },
        {
          "output_type": "stream",
          "text": [
            "\n",
            ">>>> time elapsed at the end of epoch 16 of batch 1000 is 0 hrs: 00 min: 31.00 sec\n",
            ">>>> generator loss: 1.5848 | generator PPL:  4.8786\n",
            ">>>> discriminator loss: 0.6229 | discriminator PPL:  1.8643\n"
          ],
          "name": "stdout"
        },
        {
          "output_type": "stream",
          "text": [
            " 64%|██████▍   | 1204/1875 [00:37<00:21, 30.54it/s]"
          ],
          "name": "stderr"
        },
        {
          "output_type": "stream",
          "text": [
            "\n",
            ">>>> time elapsed at the end of epoch 16 of batch 1200 is 0 hrs: 00 min: 37.00 sec\n",
            ">>>> generator loss: 2.1928 | generator PPL:  8.9602\n",
            ">>>> discriminator loss: 0.4537 | discriminator PPL:  1.5741\n"
          ],
          "name": "stdout"
        },
        {
          "output_type": "stream",
          "text": [
            " 75%|███████▍  | 1404/1875 [00:43<00:14, 31.70it/s]"
          ],
          "name": "stderr"
        },
        {
          "output_type": "stream",
          "text": [
            "\n",
            ">>>> time elapsed at the end of epoch 16 of batch 1400 is 0 hrs: 00 min: 43.00 sec\n",
            ">>>> generator loss: 1.3876 | generator PPL:  4.0054\n",
            ">>>> discriminator loss: 0.3760 | discriminator PPL:  1.4565\n"
          ],
          "name": "stdout"
        },
        {
          "output_type": "stream",
          "text": [
            " 85%|████████▌ | 1603/1875 [00:50<00:09, 30.20it/s]"
          ],
          "name": "stderr"
        },
        {
          "output_type": "stream",
          "text": [
            "\n",
            ">>>> time elapsed at the end of epoch 16 of batch 1600 is 0 hrs: 00 min: 50.00 sec\n",
            ">>>> generator loss: 1.5308 | generator PPL:  4.6218\n",
            ">>>> discriminator loss: 0.6945 | discriminator PPL:  2.0028\n"
          ],
          "name": "stdout"
        }
      ]
    },
    {
      "cell_type": "code",
      "metadata": {
        "id": "20aQUjZBDmd_"
      },
      "source": [
        ""
      ],
      "execution_count": null,
      "outputs": []
    }
  ]
}